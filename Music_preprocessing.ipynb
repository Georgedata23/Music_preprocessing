{
 "cells": [
  {
   "cell_type": "markdown",
   "metadata": {
    "id": "E0vqbgi9ay0H"
   },
   "source": [
    "# Яндекс.Музыка"
   ]
  },
  {
   "cell_type": "markdown",
   "metadata": {
    "id": "VUC88oWjTJw2"
   },
   "source": [
    "Сравнение Москвы и Петербурга окружено мифами. Например:\n",
    "   Москва — мегаполис, подчинённый жёсткому ритму рабочей недели;\n",
    "   Петербург — культурная столица, со своими вкусами.\n",
    "\n",
    "На данных Яндекс.Музыки вы сравните поведение пользователей двух столиц.\n",
    "\n",
    "Цель исследования — проверьте три гипотезы:\n",
    "1. Активность пользователей зависит от дня недели. Причём в Москве и Петербурге это проявляется по-разному.\n",
    "2. В понедельник утром в Москве преобладают одни жанры, а в Петербурге — другие. Так же и вечером пятницы преобладают разные жанры — в зависимости от города. \n",
    "3. Москва и Петербург предпочитают разные жанры музыки. В Москве чаще слушают поп-музыку, в Петербурге — русский рэп.\n",
    "\n",
    "Ход исследования\n",
    "\n",
    "Данные о поведении пользователей вы получите из файла `yandex_music_project.csv`. О качестве данных ничего не известно. Поэтому перед проверкой гипотез понадобится обзор данных. \n",
    "\n",
    "Вы проверите данные на ошибки и оцените их влияние на исследование. Затем, на этапе предобработки вы поищете возможность исправить самые критичные ошибки данных.\n",
    " \n",
    "Таким образом, исследование пройдёт в три этапа:\n",
    " 1. Обзор данных.\n",
    " 2. Предобработка данных.\n",
    " 3. Проверка гипотез.\n",
    "\n"
   ]
  },
  {
   "cell_type": "markdown",
   "metadata": {
    "id": "Ml1hmfXC_Zcs"
   },
   "source": [
    "## Обзор данных\n",
    "\n",
    "Составьте первое представление о данных Яндекс.Музыки.\n",
    "\n",
    "\n"
   ]
  },
  {
   "cell_type": "markdown",
   "metadata": {
    "id": "57eAOGIz_Zcs"
   },
   "source": [
    "Основной инструмент аналитика — `pandas`. Импортируйте эту библиотеку."
   ]
  },
  {
   "cell_type": "code",
   "execution_count": 1,
   "metadata": {
    "id": "AXN7PHPN_Zcs"
   },
   "outputs": [],
   "source": [
    "import pandas as pd # импорт библиотеки pandas"
   ]
  },
  {
   "cell_type": "markdown",
   "metadata": {
    "id": "SG23P8tt_Zcs"
   },
   "source": [
    "Прочитайте файл `yandex_music_project.csv` из папки `/datasets` и сохраните его в переменной `df`:"
   ]
  },
  {
   "cell_type": "code",
   "execution_count": 2,
   "metadata": {
    "id": "fFVu7vqh_Zct"
   },
   "outputs": [],
   "source": [
    "df = pd.read_csv('/datasets/yandex_music_project.csv') # чтение файла с данными и сохранение в df"
   ]
  },
  {
   "cell_type": "markdown",
   "metadata": {
    "id": "rDoOMd3uTqnZ"
   },
   "source": [
    "Выведите на экран первые десять строк таблицы:"
   ]
  },
  {
   "cell_type": "code",
   "execution_count": 3,
   "metadata": {
    "id": "oWTVX3gW_Zct"
   },
   "outputs": [
    {
     "data": {
      "text/html": [
       "<div>\n",
       "<style scoped>\n",
       "    .dataframe tbody tr th:only-of-type {\n",
       "        vertical-align: middle;\n",
       "    }\n",
       "\n",
       "    .dataframe tbody tr th {\n",
       "        vertical-align: top;\n",
       "    }\n",
       "\n",
       "    .dataframe thead th {\n",
       "        text-align: right;\n",
       "    }\n",
       "</style>\n",
       "<table border=\"1\" class=\"dataframe\">\n",
       "  <thead>\n",
       "    <tr style=\"text-align: right;\">\n",
       "      <th></th>\n",
       "      <th>userID</th>\n",
       "      <th>Track</th>\n",
       "      <th>artist</th>\n",
       "      <th>genre</th>\n",
       "      <th>City</th>\n",
       "      <th>time</th>\n",
       "      <th>Day</th>\n",
       "    </tr>\n",
       "  </thead>\n",
       "  <tbody>\n",
       "    <tr>\n",
       "      <th>0</th>\n",
       "      <td>FFB692EC</td>\n",
       "      <td>Kamigata To Boots</td>\n",
       "      <td>The Mass Missile</td>\n",
       "      <td>rock</td>\n",
       "      <td>Saint-Petersburg</td>\n",
       "      <td>20:28:33</td>\n",
       "      <td>Wednesday</td>\n",
       "    </tr>\n",
       "    <tr>\n",
       "      <th>1</th>\n",
       "      <td>55204538</td>\n",
       "      <td>Delayed Because of Accident</td>\n",
       "      <td>Andreas Rönnberg</td>\n",
       "      <td>rock</td>\n",
       "      <td>Moscow</td>\n",
       "      <td>14:07:09</td>\n",
       "      <td>Friday</td>\n",
       "    </tr>\n",
       "    <tr>\n",
       "      <th>2</th>\n",
       "      <td>20EC38</td>\n",
       "      <td>Funiculì funiculà</td>\n",
       "      <td>Mario Lanza</td>\n",
       "      <td>pop</td>\n",
       "      <td>Saint-Petersburg</td>\n",
       "      <td>20:58:07</td>\n",
       "      <td>Wednesday</td>\n",
       "    </tr>\n",
       "    <tr>\n",
       "      <th>3</th>\n",
       "      <td>A3DD03C9</td>\n",
       "      <td>Dragons in the Sunset</td>\n",
       "      <td>Fire + Ice</td>\n",
       "      <td>folk</td>\n",
       "      <td>Saint-Petersburg</td>\n",
       "      <td>08:37:09</td>\n",
       "      <td>Monday</td>\n",
       "    </tr>\n",
       "    <tr>\n",
       "      <th>4</th>\n",
       "      <td>E2DC1FAE</td>\n",
       "      <td>Soul People</td>\n",
       "      <td>Space Echo</td>\n",
       "      <td>dance</td>\n",
       "      <td>Moscow</td>\n",
       "      <td>08:34:34</td>\n",
       "      <td>Monday</td>\n",
       "    </tr>\n",
       "    <tr>\n",
       "      <th>5</th>\n",
       "      <td>842029A1</td>\n",
       "      <td>Преданная</td>\n",
       "      <td>IMPERVTOR</td>\n",
       "      <td>rusrap</td>\n",
       "      <td>Saint-Petersburg</td>\n",
       "      <td>13:09:41</td>\n",
       "      <td>Friday</td>\n",
       "    </tr>\n",
       "    <tr>\n",
       "      <th>6</th>\n",
       "      <td>4CB90AA5</td>\n",
       "      <td>True</td>\n",
       "      <td>Roman Messer</td>\n",
       "      <td>dance</td>\n",
       "      <td>Moscow</td>\n",
       "      <td>13:00:07</td>\n",
       "      <td>Wednesday</td>\n",
       "    </tr>\n",
       "    <tr>\n",
       "      <th>7</th>\n",
       "      <td>F03E1C1F</td>\n",
       "      <td>Feeling This Way</td>\n",
       "      <td>Polina Griffith</td>\n",
       "      <td>dance</td>\n",
       "      <td>Moscow</td>\n",
       "      <td>20:47:49</td>\n",
       "      <td>Wednesday</td>\n",
       "    </tr>\n",
       "    <tr>\n",
       "      <th>8</th>\n",
       "      <td>8FA1D3BE</td>\n",
       "      <td>И вновь продолжается бой</td>\n",
       "      <td>NaN</td>\n",
       "      <td>ruspop</td>\n",
       "      <td>Moscow</td>\n",
       "      <td>09:17:40</td>\n",
       "      <td>Friday</td>\n",
       "    </tr>\n",
       "    <tr>\n",
       "      <th>9</th>\n",
       "      <td>E772D5C0</td>\n",
       "      <td>Pessimist</td>\n",
       "      <td>NaN</td>\n",
       "      <td>dance</td>\n",
       "      <td>Saint-Petersburg</td>\n",
       "      <td>21:20:49</td>\n",
       "      <td>Wednesday</td>\n",
       "    </tr>\n",
       "  </tbody>\n",
       "</table>\n",
       "</div>"
      ],
      "text/plain": [
       "     userID                        Track            artist   genre  \\\n",
       "0  FFB692EC            Kamigata To Boots  The Mass Missile    rock   \n",
       "1  55204538  Delayed Because of Accident  Andreas Rönnberg    rock   \n",
       "2    20EC38            Funiculì funiculà       Mario Lanza     pop   \n",
       "3  A3DD03C9        Dragons in the Sunset        Fire + Ice    folk   \n",
       "4  E2DC1FAE                  Soul People        Space Echo   dance   \n",
       "5  842029A1                    Преданная         IMPERVTOR  rusrap   \n",
       "6  4CB90AA5                         True      Roman Messer   dance   \n",
       "7  F03E1C1F             Feeling This Way   Polina Griffith   dance   \n",
       "8  8FA1D3BE     И вновь продолжается бой               NaN  ruspop   \n",
       "9  E772D5C0                    Pessimist               NaN   dance   \n",
       "\n",
       "             City        time        Day  \n",
       "0  Saint-Petersburg  20:28:33  Wednesday  \n",
       "1            Moscow  14:07:09     Friday  \n",
       "2  Saint-Petersburg  20:58:07  Wednesday  \n",
       "3  Saint-Petersburg  08:37:09     Monday  \n",
       "4            Moscow  08:34:34     Monday  \n",
       "5  Saint-Petersburg  13:09:41     Friday  \n",
       "6            Moscow  13:00:07  Wednesday  \n",
       "7            Moscow  20:47:49  Wednesday  \n",
       "8            Moscow  09:17:40     Friday  \n",
       "9  Saint-Petersburg  21:20:49  Wednesday  "
      ]
     },
     "execution_count": 3,
     "metadata": {},
     "output_type": "execute_result"
    }
   ],
   "source": [
    "df.head(10) # получение первых 10 строк таблицы df"
   ]
  },
  {
   "cell_type": "markdown",
   "metadata": {
    "id": "EO73Kwic_Zct"
   },
   "source": [
    "Одной командой получить общую информацию о таблице:"
   ]
  },
  {
   "cell_type": "code",
   "execution_count": 4,
   "metadata": {
    "id": "DSf2kIb-_Zct",
    "scrolled": false
   },
   "outputs": [
    {
     "name": "stdout",
     "output_type": "stream",
     "text": [
      "<class 'pandas.core.frame.DataFrame'>\n",
      "RangeIndex: 65079 entries, 0 to 65078\n",
      "Data columns (total 7 columns):\n",
      " #   Column    Non-Null Count  Dtype \n",
      "---  ------    --------------  ----- \n",
      " 0     userID  65079 non-null  object\n",
      " 1   Track     63848 non-null  object\n",
      " 2   artist    57876 non-null  object\n",
      " 3   genre     63881 non-null  object\n",
      " 4     City    65079 non-null  object\n",
      " 5   time      65079 non-null  object\n",
      " 6   Day       65079 non-null  object\n",
      "dtypes: object(7)\n",
      "memory usage: 3.5+ MB\n"
     ]
    }
   ],
   "source": [
    "df.info() # получение общей информации о данных в таблице df"
   ]
  },
  {
   "cell_type": "markdown",
   "metadata": {
    "id": "TaQ2Iwbr_Zct"
   },
   "source": [
    "Итак, в таблице семь столбцов. Тип данных во всех столбцах — `object`.\n",
    "\n",
    "Согласно документации к данным:\n",
    "* `userID` — идентификатор пользователя;\n",
    "* `Track` — название трека;  \n",
    "* `artist` — имя исполнителя;\n",
    "* `genre` — название жанра;\n",
    "* `City` — город пользователя;\n",
    "* `time` — время начала прослушивания;\n",
    "* `Day` — день недели.\n",
    "\n",
    "В названиях колонок видны три нарушения стиля:\n",
    "1. Строчные буквы сочетаются с прописными.\n",
    "2. Встречаются пробелы.\n",
    "3. Запись нескольких слов производится без использования «змеиного_регистра».\n",
    "\n",
    "\n",
    "\n",
    "Количество значений в столбцах различается. Значит, в данных есть пропущенные значения.\n"
   ]
  },
  {
   "cell_type": "markdown",
   "metadata": {
    "id": "MCB6-dXG_Zct"
   },
   "source": [
    "**Выводы**\n",
    "\n",
    "В каждой строке таблицы — данные о прослушанном треке. Часть колонок описывает саму композицию: название, исполнителя и жанр. Остальные данные рассказывают о пользователе: из какого он города, когда он слушал музыку. \n",
    "\n",
    "Предварительно можно утверждать, что, данных достаточно для проверки гипотез. Но встречаются пропуски в данных, а в названиях колонок — расхождения с хорошим стилем.\n",
    "\n",
    "Чтобы двигаться дальше, нужно устранить проблемы в данных."
   ]
  },
  {
   "cell_type": "markdown",
   "metadata": {
    "id": "SjYF6Ub9_Zct"
   },
   "source": [
    "## Предобработка данных\n",
    "Исправьте стиль в заголовках столбцов, исключите пропуски. Затем проверьте данные на дубликаты."
   ]
  },
  {
   "cell_type": "markdown",
   "metadata": {
    "id": "dIaKXr29_Zct"
   },
   "source": [
    "### Стиль заголовков\n",
    "Выведите на экран названия столбцов:"
   ]
  },
  {
   "cell_type": "code",
   "execution_count": 5,
   "metadata": {
    "id": "oKOTdF_Q_Zct"
   },
   "outputs": [
    {
     "data": {
      "text/plain": [
       "Index(['  userID', 'Track', 'artist', 'genre', '  City  ', 'time', 'Day'], dtype='object')"
      ]
     },
     "execution_count": 5,
     "metadata": {},
     "output_type": "execute_result"
    }
   ],
   "source": [
    "df.columns # перечень названий столбцов таблицы df"
   ]
  },
  {
   "cell_type": "markdown",
   "metadata": {
    "id": "zj5534cv_Zct"
   },
   "source": [
    "Приведите названия в соответствие с хорошим стилем:\n",
    "* несколько слов в названии запишите в «змеином_регистре»,\n",
    "* все символы сделайте строчными,\n",
    "* устраните пробелы.\n",
    "\n",
    "Для этого переименуйте колонки так:\n",
    "* `'  userID'` → `'user_id'`;\n",
    "* `'Track'` → `'track'`;\n",
    "* `'  City  '` → `'city'`;\n",
    "* `'Day'` → `'day'`."
   ]
  },
  {
   "cell_type": "code",
   "execution_count": 6,
   "metadata": {
    "id": "ISlFqs5y_Zct"
   },
   "outputs": [],
   "source": [
    "df = df.rename(columns = {'  userID': 'user_id', 'Track': 'track', '  City  ': 'city', 'Day': 'day'})\n",
    "# Переименование столбцов"
   ]
  },
  {
   "cell_type": "markdown",
   "metadata": {
    "id": "1dqbh00J_Zct"
   },
   "source": [
    "Проверьте результат. Для этого ещё раз выведите на экран названия столбцов:"
   ]
  },
  {
   "cell_type": "code",
   "execution_count": 7,
   "metadata": {
    "id": "d4NOAmTW_Zct"
   },
   "outputs": [
    {
     "data": {
      "text/plain": [
       "Index(['user_id', 'track', 'artist', 'genre', 'city', 'time', 'day'], dtype='object')"
      ]
     },
     "execution_count": 7,
     "metadata": {},
     "output_type": "execute_result"
    }
   ],
   "source": [
    "df.columns # проверка результатов - перечень названий столбцов"
   ]
  },
  {
   "cell_type": "markdown",
   "metadata": {
    "id": "5ISfbcfY_Zct"
   },
   "source": [
    "### Пропуски значений\n",
    "Сначала посчитайте, сколько в таблице пропущенных значений. Для этого достаточно двух методов `pandas`:"
   ]
  },
  {
   "cell_type": "code",
   "execution_count": 8,
   "metadata": {
    "id": "RskX29qr_Zct"
   },
   "outputs": [
    {
     "data": {
      "text/plain": [
       "user_id       0\n",
       "track      1231\n",
       "artist     7203\n",
       "genre      1198\n",
       "city          0\n",
       "time          0\n",
       "day           0\n",
       "dtype: int64"
      ]
     },
     "execution_count": 8,
     "metadata": {},
     "output_type": "execute_result"
    }
   ],
   "source": [
    "df.isna().sum() # подсчёт пропусков"
   ]
  },
  {
   "cell_type": "markdown",
   "metadata": {
    "id": "qubhgnlO_Zct"
   },
   "source": [
    "Не все пропущенные значения влияют на исследование. Так в `track` и `artist` пропуски не важны для вашей работы. Достаточно заменить их явными обозначениями.\n",
    "\n",
    "Но пропуски в `genre` могут помешать сравнению музыкальных вкусов в Москве и Санкт-Петербурге. На практике было бы правильно установить причину пропусков и восстановить данные. Такой возможности нет в учебном проекте. Придётся:\n",
    "* заполнить и эти пропуски явными обозначениями,\n",
    "* оценить, насколько они повредят расчётам. "
   ]
  },
  {
   "cell_type": "markdown",
   "metadata": {
    "id": "fSv2laPA_Zct"
   },
   "source": [
    "Замените пропущенные значения в столбцах `track`, `artist` и `genre` на строку `'unknown'`. Для этого создайте список `columns_to_replace`, переберите его элементы циклом `for` и для каждого столбца выполните замену пропущенных значений:"
   ]
  },
  {
   "cell_type": "code",
   "execution_count": 9,
   "metadata": {
    "id": "KplB5qWs_Zct"
   },
   "outputs": [],
   "source": [
    "columns_to_replace = ['track', 'artist', 'genre'] #Список с названиями столбцов, в которых будем заменять пропуски\n",
    "for i in columns_to_replace:\n",
    "    df[i] = df[i].fillna('unknown') # перебор названий столбцов в цикле и замена пропущенных значений на 'unknown'"
   ]
  },
  {
   "cell_type": "markdown",
   "metadata": {
    "id": "Ilsm-MZo_Zct"
   },
   "source": [
    "Убедитесь, что в таблице не осталось пропусков. Для этого ещё раз посчитайте пропущенные значения."
   ]
  },
  {
   "cell_type": "code",
   "execution_count": 10,
   "metadata": {
    "id": "Tq4nYRX4_Zct"
   },
   "outputs": [
    {
     "data": {
      "text/plain": [
       "user_id    0\n",
       "track      0\n",
       "artist     0\n",
       "genre      0\n",
       "city       0\n",
       "time       0\n",
       "day        0\n",
       "dtype: int64"
      ]
     },
     "execution_count": 10,
     "metadata": {},
     "output_type": "execute_result"
    }
   ],
   "source": [
    "df.isna().sum() # проверка - подсчёт пропусков"
   ]
  },
  {
   "cell_type": "markdown",
   "metadata": {
    "id": "BWKRtBJ3_Zct"
   },
   "source": [
    "### Дубликаты\n",
    "Посчитайте явные дубликаты в таблице одной командой:"
   ]
  },
  {
   "cell_type": "code",
   "execution_count": 11,
   "metadata": {
    "id": "36eES_S0_Zct"
   },
   "outputs": [
    {
     "data": {
      "text/plain": [
       "3826"
      ]
     },
     "execution_count": 11,
     "metadata": {},
     "output_type": "execute_result"
    }
   ],
   "source": [
    "df.duplicated().sum() # подсчёт явных дубликатов"
   ]
  },
  {
   "cell_type": "markdown",
   "metadata": {
    "id": "Ot25h6XR_Zct"
   },
   "source": [
    "Вызовите специальный метод `pandas`, чтобы удалить явные дубликаты:"
   ]
  },
  {
   "cell_type": "code",
   "execution_count": 12,
   "metadata": {
    "id": "exFHq6tt_Zct"
   },
   "outputs": [],
   "source": [
    "df = df.drop_duplicates().reset_index(drop=True)  \n",
    "# удаление явных дубликатов (с удалением старых индексов и формированием новых)"
   ]
  },
  {
   "cell_type": "markdown",
   "metadata": {
    "id": "Im2YwBEG_Zct"
   },
   "source": [
    "Ещё раз посчитайте явные дубликаты в таблице — убедитесь, что полностью от них избавились:"
   ]
  },
  {
   "cell_type": "code",
   "execution_count": 13,
   "metadata": {
    "id": "-8PuNWQ0_Zct"
   },
   "outputs": [
    {
     "data": {
      "text/plain": [
       "0"
      ]
     },
     "execution_count": 13,
     "metadata": {},
     "output_type": "execute_result"
    }
   ],
   "source": [
    "df.duplicated().sum() # проверка на отсутствие дубликатов"
   ]
  },
  {
   "cell_type": "markdown",
   "metadata": {
    "id": "QlFBsxAr_Zct"
   },
   "source": [
    "Теперь избавьтесь от неявных дубликатов в колонке `genre`. Например, название одного и того же жанра может быть записано немного по-разному. Такие ошибки тоже повлияют на результат исследования."
   ]
  },
  {
   "cell_type": "markdown",
   "metadata": {
    "id": "eSjWwsOh_Zct"
   },
   "source": [
    "Выведите на экран список уникальных названий жанров, отсортированный в алфавитном порядке. Для этого:\n",
    "* извлеките нужный столбец датафрейма, \n",
    "* примените к нему метод сортировки,\n",
    "* для отсортированного столбца вызовите метод, который вернёт уникальные значения из столбца."
   ]
  },
  {
   "cell_type": "code",
   "execution_count": 14,
   "metadata": {
    "id": "JIUcqzZN_Zct"
   },
   "outputs": [
    {
     "data": {
      "text/plain": [
       "array(['acid', 'acoustic', 'action', 'adult', 'africa', 'afrikaans',\n",
       "       'alternative', 'alternativepunk', 'ambient', 'americana',\n",
       "       'animated', 'anime', 'arabesk', 'arabic', 'arena',\n",
       "       'argentinetango', 'art', 'audiobook', 'author', 'avantgarde',\n",
       "       'axé', 'baile', 'balkan', 'beats', 'bigroom', 'black', 'bluegrass',\n",
       "       'blues', 'bollywood', 'bossa', 'brazilian', 'breakbeat', 'breaks',\n",
       "       'broadway', 'cantautori', 'cantopop', 'canzone', 'caribbean',\n",
       "       'caucasian', 'celtic', 'chamber', 'chanson', 'children', 'chill',\n",
       "       'chinese', 'choral', 'christian', 'christmas', 'classical',\n",
       "       'classicmetal', 'club', 'colombian', 'comedy', 'conjazz',\n",
       "       'contemporary', 'country', 'cuban', 'dance', 'dancehall',\n",
       "       'dancepop', 'dark', 'death', 'deep', 'deutschrock', 'deutschspr',\n",
       "       'dirty', 'disco', 'dnb', 'documentary', 'downbeat', 'downtempo',\n",
       "       'drum', 'dub', 'dubstep', 'eastern', 'easy', 'electronic',\n",
       "       'electropop', 'emo', 'entehno', 'epicmetal', 'estrada', 'ethnic',\n",
       "       'eurofolk', 'european', 'experimental', 'extrememetal', 'fado',\n",
       "       'fairytail', 'film', 'fitness', 'flamenco', 'folk', 'folklore',\n",
       "       'folkmetal', 'folkrock', 'folktronica', 'forró', 'frankreich',\n",
       "       'französisch', 'french', 'funk', 'future', 'gangsta', 'garage',\n",
       "       'german', 'ghazal', 'gitarre', 'glitch', 'gospel', 'gothic',\n",
       "       'grime', 'grunge', 'gypsy', 'handsup', \"hard'n'heavy\", 'hardcore',\n",
       "       'hardstyle', 'hardtechno', 'hip', 'hip-hop', 'hiphop',\n",
       "       'historisch', 'holiday', 'hop', 'horror', 'house', 'hymn', 'idm',\n",
       "       'independent', 'indian', 'indie', 'indipop', 'industrial',\n",
       "       'inspirational', 'instrumental', 'international', 'irish', 'jam',\n",
       "       'japanese', 'jazz', 'jewish', 'jpop', 'jungle', 'k-pop',\n",
       "       'karadeniz', 'karaoke', 'kayokyoku', 'korean', 'laiko', 'latin',\n",
       "       'latino', 'leftfield', 'local', 'lounge', 'loungeelectronic',\n",
       "       'lovers', 'malaysian', 'mandopop', 'marschmusik', 'meditative',\n",
       "       'mediterranean', 'melodic', 'metal', 'metalcore', 'mexican',\n",
       "       'middle', 'minimal', 'miscellaneous', 'modern', 'mood', 'mpb',\n",
       "       'muslim', 'native', 'neoklassik', 'neue', 'new', 'newage',\n",
       "       'newwave', 'nu', 'nujazz', 'numetal', 'oceania', 'old', 'opera',\n",
       "       'orchestral', 'other', 'piano', 'podcasts', 'pop', 'popdance',\n",
       "       'popelectronic', 'popeurodance', 'poprussian', 'post',\n",
       "       'posthardcore', 'postrock', 'power', 'progmetal', 'progressive',\n",
       "       'psychedelic', 'punjabi', 'punk', 'quebecois', 'ragga', 'ram',\n",
       "       'rancheras', 'rap', 'rave', 'reggae', 'reggaeton', 'regional',\n",
       "       'relax', 'religious', 'retro', 'rhythm', 'rnb', 'rnr', 'rock',\n",
       "       'rockabilly', 'rockalternative', 'rockindie', 'rockother',\n",
       "       'romance', 'roots', 'ruspop', 'rusrap', 'rusrock', 'russian',\n",
       "       'salsa', 'samba', 'scenic', 'schlager', 'self', 'sertanejo',\n",
       "       'shanson', 'shoegazing', 'showtunes', 'singer', 'ska', 'skarock',\n",
       "       'slow', 'smooth', 'soft', 'soul', 'soulful', 'sound', 'soundtrack',\n",
       "       'southern', 'specialty', 'speech', 'spiritual', 'sport',\n",
       "       'stonerrock', 'surf', 'swing', 'synthpop', 'synthrock',\n",
       "       'sängerportrait', 'tango', 'tanzorchester', 'taraftar', 'tatar',\n",
       "       'tech', 'techno', 'teen', 'thrash', 'top', 'traditional',\n",
       "       'tradjazz', 'trance', 'tribal', 'trip', 'triphop', 'tropical',\n",
       "       'türk', 'türkçe', 'ukrrock', 'unknown', 'urban', 'uzbek',\n",
       "       'variété', 'vi', 'videogame', 'vocal', 'western', 'world',\n",
       "       'worldbeat', 'ïîï', 'электроника'], dtype=object)"
      ]
     },
     "execution_count": 14,
     "metadata": {},
     "output_type": "execute_result"
    }
   ],
   "source": [
    "df['genre'].sort_values().unique() # Просмотр уникальных названий жанров, отсортированный по алфавиту"
   ]
  },
  {
   "cell_type": "markdown",
   "metadata": {
    "id": "qej-Qmuo_Zct"
   },
   "source": [
    "Просмотрите список и найдите неявные дубликаты названия `hiphop`. Это могут быть названия с ошибками или альтернативные названия того же жанра.\n",
    "\n",
    "Вы увидите следующие неявные дубликаты:\n",
    "* *hip*,\n",
    "* *hop*,\n",
    "* *hip-hop*.\n",
    "\n",
    "Чтобы очистить от них таблицу, напишите функцию `replace_wrong_genres()` с двумя параметрами: \n",
    "* `wrong_genres` — список дубликатов,\n",
    "* `correct_genre` — строка с правильным значением.\n",
    "\n",
    "Функция должна исправить колонку `genre` в таблице `df`: заменить каждое значение из списка `wrong_genres` на значение из `correct_genre`."
   ]
  },
  {
   "cell_type": "code",
   "execution_count": 15,
   "metadata": {
    "id": "ErNDkmns_Zct"
   },
   "outputs": [],
   "source": [
    "def replace_wrong_genres(wrong_genres, correct_genre):\n",
    "    for i in wrong_genres:\n",
    "        df['genre'] = df['genre'].replace(i, correct_genre) # Функция для замены неявных дубликатов"
   ]
  },
  {
   "cell_type": "markdown",
   "metadata": {
    "id": "aDoBJxbA_Zct"
   },
   "source": [
    "Вызовите `replace_wrong_genres()` и передайте ей такие аргументы, чтобы она устранила неявные дубликаты: вместо `hip`, `hop` и `hip-hop` в таблице должно быть значение `hiphop`:"
   ]
  },
  {
   "cell_type": "code",
   "execution_count": 16,
   "metadata": {
    "id": "YN5i2hpmSo09"
   },
   "outputs": [],
   "source": [
    "wrong_genres_hiphop = ['hip', 'hop', 'hip-hop'] # Список неявных дубликатов хип-хопа\n",
    "replace_wrong_genres(wrong_genres_hiphop, 'hiphop') # Устранение неявных дубликатов хип-хопа\n",
    "africa = ['afrikaans'] # Список неявных дубликатов африканской музыки\n",
    "replace_wrong_genres(africa, 'africa') # Устранение неявных дубликатов африканского жанра\n",
    "electronica = ['электроника'] # Список неявных дубликатов элетроники\n",
    "replace_wrong_genres(electronica, 'electronic') # Устранение неявных дубликатов электроники\n",
    "turk_music = ['türk'] # Список неявных дубликатов турецкой музыки\n",
    "replace_wrong_genres(turk_music,'türkçe') # Устранение неявных дубликатов турецкой музыки\n",
    "latino_music = ['latin'] # Список неявных дубликатов латинской музыки\n",
    "replace_wrong_genres(latino_music, 'latino') # Устранение неявных дубликатов латинской музыки\n",
    "# Метод replace() применять не стал, вместо этого использовал функцию replace_wrong_genres() (Для личного удобства)"
   ]
  },
  {
   "cell_type": "markdown",
   "metadata": {
    "id": "zQKF16_RG15m"
   },
   "source": [
    "Проверьте, что заменили неправильные названия:\n",
    "\n",
    "*   hip\n",
    "*   hop\n",
    "*   hip-hop\n",
    "\n",
    "Выведите отсортированный список уникальных значений столбца `genre`:"
   ]
  },
  {
   "cell_type": "code",
   "execution_count": 17,
   "metadata": {
    "id": "wvixALnFG15m"
   },
   "outputs": [
    {
     "data": {
      "text/plain": [
       "array(['acid', 'acoustic', 'action', 'adult', 'africa', 'alternative',\n",
       "       'alternativepunk', 'ambient', 'americana', 'animated', 'anime',\n",
       "       'arabesk', 'arabic', 'arena', 'argentinetango', 'art', 'audiobook',\n",
       "       'author', 'avantgarde', 'axé', 'baile', 'balkan', 'beats',\n",
       "       'bigroom', 'black', 'bluegrass', 'blues', 'bollywood', 'bossa',\n",
       "       'brazilian', 'breakbeat', 'breaks', 'broadway', 'cantautori',\n",
       "       'cantopop', 'canzone', 'caribbean', 'caucasian', 'celtic',\n",
       "       'chamber', 'chanson', 'children', 'chill', 'chinese', 'choral',\n",
       "       'christian', 'christmas', 'classical', 'classicmetal', 'club',\n",
       "       'colombian', 'comedy', 'conjazz', 'contemporary', 'country',\n",
       "       'cuban', 'dance', 'dancehall', 'dancepop', 'dark', 'death', 'deep',\n",
       "       'deutschrock', 'deutschspr', 'dirty', 'disco', 'dnb',\n",
       "       'documentary', 'downbeat', 'downtempo', 'drum', 'dub', 'dubstep',\n",
       "       'eastern', 'easy', 'electronic', 'electropop', 'emo', 'entehno',\n",
       "       'epicmetal', 'estrada', 'ethnic', 'eurofolk', 'european',\n",
       "       'experimental', 'extrememetal', 'fado', 'fairytail', 'film',\n",
       "       'fitness', 'flamenco', 'folk', 'folklore', 'folkmetal', 'folkrock',\n",
       "       'folktronica', 'forró', 'frankreich', 'französisch', 'french',\n",
       "       'funk', 'future', 'gangsta', 'garage', 'german', 'ghazal',\n",
       "       'gitarre', 'glitch', 'gospel', 'gothic', 'grime', 'grunge',\n",
       "       'gypsy', 'handsup', \"hard'n'heavy\", 'hardcore', 'hardstyle',\n",
       "       'hardtechno', 'hiphop', 'historisch', 'holiday', 'horror', 'house',\n",
       "       'hymn', 'idm', 'independent', 'indian', 'indie', 'indipop',\n",
       "       'industrial', 'inspirational', 'instrumental', 'international',\n",
       "       'irish', 'jam', 'japanese', 'jazz', 'jewish', 'jpop', 'jungle',\n",
       "       'k-pop', 'karadeniz', 'karaoke', 'kayokyoku', 'korean', 'laiko',\n",
       "       'latino', 'leftfield', 'local', 'lounge', 'loungeelectronic',\n",
       "       'lovers', 'malaysian', 'mandopop', 'marschmusik', 'meditative',\n",
       "       'mediterranean', 'melodic', 'metal', 'metalcore', 'mexican',\n",
       "       'middle', 'minimal', 'miscellaneous', 'modern', 'mood', 'mpb',\n",
       "       'muslim', 'native', 'neoklassik', 'neue', 'new', 'newage',\n",
       "       'newwave', 'nu', 'nujazz', 'numetal', 'oceania', 'old', 'opera',\n",
       "       'orchestral', 'other', 'piano', 'podcasts', 'pop', 'popdance',\n",
       "       'popelectronic', 'popeurodance', 'poprussian', 'post',\n",
       "       'posthardcore', 'postrock', 'power', 'progmetal', 'progressive',\n",
       "       'psychedelic', 'punjabi', 'punk', 'quebecois', 'ragga', 'ram',\n",
       "       'rancheras', 'rap', 'rave', 'reggae', 'reggaeton', 'regional',\n",
       "       'relax', 'religious', 'retro', 'rhythm', 'rnb', 'rnr', 'rock',\n",
       "       'rockabilly', 'rockalternative', 'rockindie', 'rockother',\n",
       "       'romance', 'roots', 'ruspop', 'rusrap', 'rusrock', 'russian',\n",
       "       'salsa', 'samba', 'scenic', 'schlager', 'self', 'sertanejo',\n",
       "       'shanson', 'shoegazing', 'showtunes', 'singer', 'ska', 'skarock',\n",
       "       'slow', 'smooth', 'soft', 'soul', 'soulful', 'sound', 'soundtrack',\n",
       "       'southern', 'specialty', 'speech', 'spiritual', 'sport',\n",
       "       'stonerrock', 'surf', 'swing', 'synthpop', 'synthrock',\n",
       "       'sängerportrait', 'tango', 'tanzorchester', 'taraftar', 'tatar',\n",
       "       'tech', 'techno', 'teen', 'thrash', 'top', 'traditional',\n",
       "       'tradjazz', 'trance', 'tribal', 'trip', 'triphop', 'tropical',\n",
       "       'türkçe', 'ukrrock', 'unknown', 'urban', 'uzbek', 'variété', 'vi',\n",
       "       'videogame', 'vocal', 'western', 'world', 'worldbeat', 'ïîï'],\n",
       "      dtype=object)"
      ]
     },
     "execution_count": 17,
     "metadata": {},
     "output_type": "execute_result"
    }
   ],
   "source": [
    "df['genre'].sort_values().unique() # Проверка на неявные дубликаты"
   ]
  },
  {
   "cell_type": "markdown",
   "metadata": {
    "id": "jz6a9-7HQUDd"
   },
   "source": [
    "**Выводы**\n",
    "\n",
    "Предобработка обнаружила три проблемы в данных:\n",
    "\n",
    "- нарушения в стиле заголовков,\n",
    "- пропущенные значения,\n",
    "- дубликаты — явные и неявные.\n",
    "\n",
    "Вы исправили заголовки, чтобы упростить работу с таблицей. Без дубликатов исследование станет более точным.\n",
    "\n",
    "Пропущенные значения вы заменили на `'unknown'`. Ещё предстоит увидеть, не повредят ли исследованию пропуски в колонке `genre`.\n",
    "\n",
    "Теперь можно перейти к проверке гипотез. "
   ]
  },
  {
   "cell_type": "markdown",
   "metadata": {
    "id": "WttZHXH0SqKk"
   },
   "source": [
    "## Проверка гипотез"
   ]
  },
  {
   "cell_type": "markdown",
   "metadata": {
    "id": "Im936VVi_Zcu"
   },
   "source": [
    "### Сравнение поведения пользователей двух столиц"
   ]
  },
  {
   "cell_type": "markdown",
   "metadata": {
    "id": "nwt_MuaL_Zcu"
   },
   "source": [
    "Первая гипотеза утверждает, что пользователи по-разному слушают музыку в Москве и Санкт-Петербурге. Проверьте это предположение по данным о трёх днях недели — понедельнике, среде и пятнице. Для этого:\n",
    "\n",
    "* Разделите пользователей Москвы и Санкт-Петербурга\n",
    "* Сравните, сколько треков послушала каждая группа пользователей в понедельник, среду и пятницу.\n"
   ]
  },
  {
   "cell_type": "markdown",
   "metadata": {
    "id": "8Dw_YMmT_Zcu"
   },
   "source": [
    "Для тренировки сначала выполните каждый из расчётов по отдельности. \n",
    "\n",
    "Оцените активность пользователей в каждом городе. Сгруппируйте данные по городу и посчитайте прослушивания в каждой группе.\n",
    "\n"
   ]
  },
  {
   "cell_type": "code",
   "execution_count": 18,
   "metadata": {
    "id": "0_Qs96oh_Zcu"
   },
   "outputs": [],
   "source": [
    "# Подсчёт прослушиваний в каждом городе\n",
    "moscow_people = df[df['city'] == 'Moscow']  # Таблица с прослушиваниями в Москве\n",
    "piter_people = df[df['city'] == 'Saint-Petersburg'] # Таблица с прослушиваниями в Санкт-Петербурге\n",
    "moscow_people_count = moscow_people['city'].count() # Количество прослушиваний в Москве\n",
    "piter_people_count = piter_people['city'].count() # Количество прослушиваний в Москве"
   ]
  },
  {
   "cell_type": "markdown",
   "metadata": {
    "id": "dzli3w8o_Zcu"
   },
   "source": [
    "В Москве прослушиваний больше, чем в Петербурге. Из этого не следует, что московские пользователи чаще слушают музыку. Просто самих пользователей в Москве больше.\n",
    "\n",
    "Теперь сгруппируйте данные по дню недели и подсчитайте прослушивания в понедельник, среду и пятницу. Учтите, что в данных есть информация о прослушиваниях только за эти дни.\n"
   ]
  },
  {
   "cell_type": "code",
   "execution_count": 40,
   "metadata": {
    "id": "uZMKjiJz_Zcu"
   },
   "outputs": [
    {
     "name": "stdout",
     "output_type": "stream",
     "text": [
      "day\n",
      "Friday       21840\n",
      "Monday       21354\n",
      "Wednesday    18059\n",
      "Name: day, dtype: int64\n"
     ]
    }
   ],
   "source": [
    "print(df.groupby('day')['day'].count()) # Подсчёт прослушиваний в каждый из трёх дней с использованием цикла"
   ]
  },
  {
   "cell_type": "markdown",
   "metadata": {
    "id": "cC2tNrlL_Zcu"
   },
   "source": [
    "В среднем пользователи из двух городов менее активны по средам. Но картина может измениться, если рассмотреть каждый город в отдельности."
   ]
  },
  {
   "cell_type": "markdown",
   "metadata": {
    "id": "POzs8bGa_Zcu"
   },
   "source": [
    "Вы видели, как работает группировка по городу и по дням недели. Теперь напишите функцию, которая объединит два эти расчёта.\n",
    "\n",
    "Создайте функцию `number_tracks()`, которая посчитает прослушивания для заданного дня и города. Ей понадобятся два параметра:\n",
    "* день недели,\n",
    "* название города.\n",
    "\n",
    "В функции сохраните в переменную строки исходной таблицы, у которых значение:\n",
    "  * в колонке `day` равно параметру `day`,\n",
    "  * в колонке `city` равно параметру `city`.\n",
    "\n",
    "Для этого примените последовательную фильтрацию с логической индексацией.\n",
    "\n",
    "Затем посчитайте значения в столбце `user_id` получившейся таблицы. Результат сохраните в новую переменную. Верните эту переменную из функции."
   ]
  },
  {
   "cell_type": "code",
   "execution_count": 20,
   "metadata": {
    "id": "Nz3GdQB1_Zcu"
   },
   "outputs": [],
   "source": [
    "# Создание функции number_tracks() (Объявляется функция с двумя параметрами: day, city) для подсчета прослушиваний \n",
    "# c учетом применной логической фильтрации по дню недели и городу.\n",
    "def number_tracks(day, city):\n",
    "    new_df = df[df['day'] == day] # Фильтрация по дню недели\n",
    "    new_df = new_df[new_df['city'] == city] # Фильтрация по городу\n",
    "    track_list_count = new_df['user_id'].count() # Считаем количество прослушиваний с учетом применной логической фильтрации \n",
    "    # по дням и городам\n",
    "    return track_list_count # Возвращаем значение track_list_count\n",
    "\n",
    "\n"
   ]
  },
  {
   "cell_type": "markdown",
   "metadata": {
    "id": "ytf7xFrFJQ2r"
   },
   "source": [
    "Вызовите `number_tracks()` шесть раз, меняя значение параметров — так, чтобы получить данные для каждого города в каждый из трёх дней."
   ]
  },
  {
   "cell_type": "code",
   "execution_count": 21,
   "metadata": {
    "id": "rJcRATNQ_Zcu"
   },
   "outputs": [],
   "source": [
    "monday_moscow_listening = number_tracks('Monday', 'Moscow')\n",
    "print (monday_moscow_listening) # Количество прослушиваний в Москве по понедельникам"
   ]
  },
  {
   "cell_type": "code",
   "execution_count": 22,
   "metadata": {
    "id": "hq_ncZ5T_Zcu"
   },
   "outputs": [],
   "source": [
    "monday_piter_listening = number_tracks('Monday', 'Saint-Petersburg') \n",
    "print (monday_piter_listening) # Количество прослушиваний в Санкт-Петербурге по понедельникам"
   ]
  },
  {
   "cell_type": "code",
   "execution_count": 23,
   "metadata": {
    "id": "_NTy2VPU_Zcu"
   },
   "outputs": [],
   "source": [
    "wednesday_moscow_listening = number_tracks('Wednesday', 'Moscow') \n",
    "print (wednesday_moscow_listening) # Количество прослушиваний в Москве по средам"
   ]
  },
  {
   "cell_type": "code",
   "execution_count": 24,
   "metadata": {
    "id": "j2y3TAwo_Zcu"
   },
   "outputs": [],
   "source": [
    "wednesday_piter_listening = number_tracks('Wednesday', 'Saint-Petersburg') \n",
    "print (wednesday_piter_listening) # Количество прослушиваний в Санкт-Петербурге по средам"
   ]
  },
  {
   "cell_type": "code",
   "execution_count": 25,
   "metadata": {
    "id": "vYDw5u_K_Zcu"
   },
   "outputs": [],
   "source": [
    "friday_moscow_listening = number_tracks('Friday', 'Moscow') \n",
    "print (friday_moscow_listening) # Количество прослушиваний в Москве по пятницам"
   ]
  },
  {
   "cell_type": "code",
   "execution_count": 26,
   "metadata": {
    "id": "8_yzFtW3_Zcu"
   },
   "outputs": [],
   "source": [
    "friday_piter_listening = number_tracks('Friday', 'Saint-Petersburg') \n",
    "print (friday_piter_listening) # Количество прослушиваний в Санкт-Петербурге по пятницам"
   ]
  },
  {
   "cell_type": "markdown",
   "metadata": {
    "id": "7QXffbO-_Zcu"
   },
   "source": [
    "Создайте c помощью конструктора `pd.DataFrame` таблицу, где\n",
    "* названия колонок — `['city', 'monday', 'wednesday', 'friday']`;\n",
    "* данные — результаты, которые вы получили с помощью `number_tracks`."
   ]
  },
  {
   "cell_type": "code",
   "execution_count": 27,
   "metadata": {
    "id": "APAcLpOr_Zcu"
   },
   "outputs": [
    {
     "name": "stdout",
     "output_type": "stream",
     "text": [
      "               city  monday  wednesday  friday\n",
      "0            Moscow   15740      11056   15945\n",
      "1  Saint-Petersburg    5614       7003    5895\n"
     ]
    }
   ],
   "source": [
    "# Таблица с результатами прослушиваний по дню недели и городу\n",
    "columns = ['city', 'monday', 'wednesday', 'friday'] # Название колонок\n",
    "data = [[ 'Moscow', monday_moscow_listening, wednesday_moscow_listening, friday_moscow_listening],\n",
    "    ['Saint-Petersburg', monday_piter_listening, wednesday_piter_listening , friday_piter_listening]] # Данные\n",
    "days_and_cityes_df = pd.DataFrame (data = data, columns = columns)\n",
    "print(days_and_cityes_df) # Вывод самой таблицы"
   ]
  },
  {
   "cell_type": "markdown",
   "metadata": {},
   "source": [
    "<div class=\"alert alert-success\">\n",
    "<b>✔️ Комментарий ревьюера v1:</b> \n",
    "<br>Датафрейм построен верно. Молодец!\n",
    "</div>"
   ]
  },
  {
   "cell_type": "markdown",
   "metadata": {
    "id": "-EgPIHYu_Zcu"
   },
   "source": [
    "**Выводы**\n",
    "\n",
    "Данные показывают разницу поведения пользователей:\n",
    "\n",
    "- В Москве пик прослушиваний приходится на понедельник и пятницу, а в среду заметен спад.\n",
    "- В Петербурге, наоборот, больше слушают музыку по средам. Активность в понедельник и пятницу здесь почти в равной мере уступает среде.\n",
    "\n",
    "Значит, данные говорят в пользу первой гипотезы."
   ]
  },
  {
   "cell_type": "markdown",
   "metadata": {
    "id": "atZAxtq4_Zcu"
   },
   "source": [
    "### Музыка в начале и в конце недели"
   ]
  },
  {
   "cell_type": "markdown",
   "metadata": {
    "id": "eXrQqXFH_Zcu"
   },
   "source": [
    "Согласно второй гипотезе, утром в понедельник в Москве преобладают одни жанры, а в Петербурге — другие. Так же и вечером пятницы преобладают разные жанры — в зависимости от города."
   ]
  },
  {
   "cell_type": "markdown",
   "metadata": {
    "id": "S8UcW6Hw_Zcu"
   },
   "source": [
    "Сохраните таблицы с данными в две переменные:\n",
    "* по Москве — в `moscow_general`;\n",
    "* по Санкт-Петербургу — в `spb_general`."
   ]
  },
  {
   "cell_type": "code",
   "execution_count": 28,
   "metadata": {
    "id": "qeaFfM_P_Zcu"
   },
   "outputs": [
    {
     "data": {
      "text/html": [
       "<div>\n",
       "<style scoped>\n",
       "    .dataframe tbody tr th:only-of-type {\n",
       "        vertical-align: middle;\n",
       "    }\n",
       "\n",
       "    .dataframe tbody tr th {\n",
       "        vertical-align: top;\n",
       "    }\n",
       "\n",
       "    .dataframe thead th {\n",
       "        text-align: right;\n",
       "    }\n",
       "</style>\n",
       "<table border=\"1\" class=\"dataframe\">\n",
       "  <thead>\n",
       "    <tr style=\"text-align: right;\">\n",
       "      <th></th>\n",
       "      <th>user_id</th>\n",
       "      <th>track</th>\n",
       "      <th>artist</th>\n",
       "      <th>genre</th>\n",
       "      <th>city</th>\n",
       "      <th>time</th>\n",
       "      <th>day</th>\n",
       "    </tr>\n",
       "  </thead>\n",
       "  <tbody>\n",
       "    <tr>\n",
       "      <th>1</th>\n",
       "      <td>55204538</td>\n",
       "      <td>Delayed Because of Accident</td>\n",
       "      <td>Andreas Rönnberg</td>\n",
       "      <td>rock</td>\n",
       "      <td>Moscow</td>\n",
       "      <td>14:07:09</td>\n",
       "      <td>Friday</td>\n",
       "    </tr>\n",
       "    <tr>\n",
       "      <th>4</th>\n",
       "      <td>E2DC1FAE</td>\n",
       "      <td>Soul People</td>\n",
       "      <td>Space Echo</td>\n",
       "      <td>dance</td>\n",
       "      <td>Moscow</td>\n",
       "      <td>08:34:34</td>\n",
       "      <td>Monday</td>\n",
       "    </tr>\n",
       "    <tr>\n",
       "      <th>6</th>\n",
       "      <td>4CB90AA5</td>\n",
       "      <td>True</td>\n",
       "      <td>Roman Messer</td>\n",
       "      <td>dance</td>\n",
       "      <td>Moscow</td>\n",
       "      <td>13:00:07</td>\n",
       "      <td>Wednesday</td>\n",
       "    </tr>\n",
       "    <tr>\n",
       "      <th>7</th>\n",
       "      <td>F03E1C1F</td>\n",
       "      <td>Feeling This Way</td>\n",
       "      <td>Polina Griffith</td>\n",
       "      <td>dance</td>\n",
       "      <td>Moscow</td>\n",
       "      <td>20:47:49</td>\n",
       "      <td>Wednesday</td>\n",
       "    </tr>\n",
       "    <tr>\n",
       "      <th>8</th>\n",
       "      <td>8FA1D3BE</td>\n",
       "      <td>И вновь продолжается бой</td>\n",
       "      <td>unknown</td>\n",
       "      <td>ruspop</td>\n",
       "      <td>Moscow</td>\n",
       "      <td>09:17:40</td>\n",
       "      <td>Friday</td>\n",
       "    </tr>\n",
       "    <tr>\n",
       "      <th>...</th>\n",
       "      <td>...</td>\n",
       "      <td>...</td>\n",
       "      <td>...</td>\n",
       "      <td>...</td>\n",
       "      <td>...</td>\n",
       "      <td>...</td>\n",
       "      <td>...</td>\n",
       "    </tr>\n",
       "    <tr>\n",
       "      <th>61247</th>\n",
       "      <td>83A474E7</td>\n",
       "      <td>I Worship Only What You Bleed</td>\n",
       "      <td>The Black Dahlia Murder</td>\n",
       "      <td>extrememetal</td>\n",
       "      <td>Moscow</td>\n",
       "      <td>21:07:12</td>\n",
       "      <td>Monday</td>\n",
       "    </tr>\n",
       "    <tr>\n",
       "      <th>61248</th>\n",
       "      <td>729CBB09</td>\n",
       "      <td>My Name</td>\n",
       "      <td>McLean</td>\n",
       "      <td>rnb</td>\n",
       "      <td>Moscow</td>\n",
       "      <td>13:32:28</td>\n",
       "      <td>Wednesday</td>\n",
       "    </tr>\n",
       "    <tr>\n",
       "      <th>61250</th>\n",
       "      <td>C5E3A0D5</td>\n",
       "      <td>Jalopiina</td>\n",
       "      <td>unknown</td>\n",
       "      <td>industrial</td>\n",
       "      <td>Moscow</td>\n",
       "      <td>20:09:26</td>\n",
       "      <td>Friday</td>\n",
       "    </tr>\n",
       "    <tr>\n",
       "      <th>61251</th>\n",
       "      <td>321D0506</td>\n",
       "      <td>Freight Train</td>\n",
       "      <td>Chas McDevitt</td>\n",
       "      <td>rock</td>\n",
       "      <td>Moscow</td>\n",
       "      <td>21:43:59</td>\n",
       "      <td>Friday</td>\n",
       "    </tr>\n",
       "    <tr>\n",
       "      <th>61252</th>\n",
       "      <td>3A64EF84</td>\n",
       "      <td>Tell Me Sweet Little Lies</td>\n",
       "      <td>Monica Lopez</td>\n",
       "      <td>country</td>\n",
       "      <td>Moscow</td>\n",
       "      <td>21:59:46</td>\n",
       "      <td>Friday</td>\n",
       "    </tr>\n",
       "  </tbody>\n",
       "</table>\n",
       "<p>42741 rows × 7 columns</p>\n",
       "</div>"
      ],
      "text/plain": [
       "        user_id                          track                   artist  \\\n",
       "1      55204538    Delayed Because of Accident         Andreas Rönnberg   \n",
       "4      E2DC1FAE                    Soul People               Space Echo   \n",
       "6      4CB90AA5                           True             Roman Messer   \n",
       "7      F03E1C1F               Feeling This Way          Polina Griffith   \n",
       "8      8FA1D3BE       И вновь продолжается бой                  unknown   \n",
       "...         ...                            ...                      ...   \n",
       "61247  83A474E7  I Worship Only What You Bleed  The Black Dahlia Murder   \n",
       "61248  729CBB09                        My Name                   McLean   \n",
       "61250  C5E3A0D5                      Jalopiina                  unknown   \n",
       "61251  321D0506                  Freight Train            Chas McDevitt   \n",
       "61252  3A64EF84      Tell Me Sweet Little Lies             Monica Lopez   \n",
       "\n",
       "              genre    city      time        day  \n",
       "1              rock  Moscow  14:07:09     Friday  \n",
       "4             dance  Moscow  08:34:34     Monday  \n",
       "6             dance  Moscow  13:00:07  Wednesday  \n",
       "7             dance  Moscow  20:47:49  Wednesday  \n",
       "8            ruspop  Moscow  09:17:40     Friday  \n",
       "...             ...     ...       ...        ...  \n",
       "61247  extrememetal  Moscow  21:07:12     Monday  \n",
       "61248           rnb  Moscow  13:32:28  Wednesday  \n",
       "61250    industrial  Moscow  20:09:26     Friday  \n",
       "61251          rock  Moscow  21:43:59     Friday  \n",
       "61252       country  Moscow  21:59:46     Friday  \n",
       "\n",
       "[42741 rows x 7 columns]"
      ]
     },
     "metadata": {},
     "output_type": "display_data"
    }
   ],
   "source": [
    "moscow_general = df[df['city'] == 'Moscow']\n",
    "display(moscow_general) # Получение таблицы moscow_general из тех строк таблицы df, \n",
    "# для которых значение в столбце 'city' равно 'Moscow'\n"
   ]
  },
  {
   "cell_type": "code",
   "execution_count": 29,
   "metadata": {
    "id": "ORaVRKto_Zcu"
   },
   "outputs": [
    {
     "data": {
      "text/html": [
       "<div>\n",
       "<style scoped>\n",
       "    .dataframe tbody tr th:only-of-type {\n",
       "        vertical-align: middle;\n",
       "    }\n",
       "\n",
       "    .dataframe tbody tr th {\n",
       "        vertical-align: top;\n",
       "    }\n",
       "\n",
       "    .dataframe thead th {\n",
       "        text-align: right;\n",
       "    }\n",
       "</style>\n",
       "<table border=\"1\" class=\"dataframe\">\n",
       "  <thead>\n",
       "    <tr style=\"text-align: right;\">\n",
       "      <th></th>\n",
       "      <th>user_id</th>\n",
       "      <th>track</th>\n",
       "      <th>artist</th>\n",
       "      <th>genre</th>\n",
       "      <th>city</th>\n",
       "      <th>time</th>\n",
       "      <th>day</th>\n",
       "    </tr>\n",
       "  </thead>\n",
       "  <tbody>\n",
       "    <tr>\n",
       "      <th>0</th>\n",
       "      <td>FFB692EC</td>\n",
       "      <td>Kamigata To Boots</td>\n",
       "      <td>The Mass Missile</td>\n",
       "      <td>rock</td>\n",
       "      <td>Saint-Petersburg</td>\n",
       "      <td>20:28:33</td>\n",
       "      <td>Wednesday</td>\n",
       "    </tr>\n",
       "    <tr>\n",
       "      <th>2</th>\n",
       "      <td>20EC38</td>\n",
       "      <td>Funiculì funiculà</td>\n",
       "      <td>Mario Lanza</td>\n",
       "      <td>pop</td>\n",
       "      <td>Saint-Petersburg</td>\n",
       "      <td>20:58:07</td>\n",
       "      <td>Wednesday</td>\n",
       "    </tr>\n",
       "    <tr>\n",
       "      <th>3</th>\n",
       "      <td>A3DD03C9</td>\n",
       "      <td>Dragons in the Sunset</td>\n",
       "      <td>Fire + Ice</td>\n",
       "      <td>folk</td>\n",
       "      <td>Saint-Petersburg</td>\n",
       "      <td>08:37:09</td>\n",
       "      <td>Monday</td>\n",
       "    </tr>\n",
       "    <tr>\n",
       "      <th>5</th>\n",
       "      <td>842029A1</td>\n",
       "      <td>Преданная</td>\n",
       "      <td>IMPERVTOR</td>\n",
       "      <td>rusrap</td>\n",
       "      <td>Saint-Petersburg</td>\n",
       "      <td>13:09:41</td>\n",
       "      <td>Friday</td>\n",
       "    </tr>\n",
       "    <tr>\n",
       "      <th>9</th>\n",
       "      <td>E772D5C0</td>\n",
       "      <td>Pessimist</td>\n",
       "      <td>unknown</td>\n",
       "      <td>dance</td>\n",
       "      <td>Saint-Petersburg</td>\n",
       "      <td>21:20:49</td>\n",
       "      <td>Wednesday</td>\n",
       "    </tr>\n",
       "    <tr>\n",
       "      <th>...</th>\n",
       "      <td>...</td>\n",
       "      <td>...</td>\n",
       "      <td>...</td>\n",
       "      <td>...</td>\n",
       "      <td>...</td>\n",
       "      <td>...</td>\n",
       "      <td>...</td>\n",
       "    </tr>\n",
       "    <tr>\n",
       "      <th>61239</th>\n",
       "      <td>D94F810B</td>\n",
       "      <td>Theme from the Walking Dead</td>\n",
       "      <td>Proyecto Halloween</td>\n",
       "      <td>film</td>\n",
       "      <td>Saint-Petersburg</td>\n",
       "      <td>21:14:40</td>\n",
       "      <td>Monday</td>\n",
       "    </tr>\n",
       "    <tr>\n",
       "      <th>61240</th>\n",
       "      <td>BC8EC5CF</td>\n",
       "      <td>Red Lips: Gta (Rover Rework)</td>\n",
       "      <td>Rover</td>\n",
       "      <td>electronic</td>\n",
       "      <td>Saint-Petersburg</td>\n",
       "      <td>21:06:50</td>\n",
       "      <td>Monday</td>\n",
       "    </tr>\n",
       "    <tr>\n",
       "      <th>61241</th>\n",
       "      <td>29E04611</td>\n",
       "      <td>Bre Petrunko</td>\n",
       "      <td>Perunika Trio</td>\n",
       "      <td>world</td>\n",
       "      <td>Saint-Petersburg</td>\n",
       "      <td>13:56:00</td>\n",
       "      <td>Monday</td>\n",
       "    </tr>\n",
       "    <tr>\n",
       "      <th>61242</th>\n",
       "      <td>1B91C621</td>\n",
       "      <td>(Hello) Cloud Mountain</td>\n",
       "      <td>sleepmakeswaves</td>\n",
       "      <td>postrock</td>\n",
       "      <td>Saint-Petersburg</td>\n",
       "      <td>09:22:13</td>\n",
       "      <td>Monday</td>\n",
       "    </tr>\n",
       "    <tr>\n",
       "      <th>61249</th>\n",
       "      <td>D08D4A55</td>\n",
       "      <td>Maybe One Day (feat. Black Spade)</td>\n",
       "      <td>Blu &amp; Exile</td>\n",
       "      <td>hiphop</td>\n",
       "      <td>Saint-Petersburg</td>\n",
       "      <td>10:00:00</td>\n",
       "      <td>Monday</td>\n",
       "    </tr>\n",
       "  </tbody>\n",
       "</table>\n",
       "<p>18512 rows × 7 columns</p>\n",
       "</div>"
      ],
      "text/plain": [
       "        user_id                              track              artist  \\\n",
       "0      FFB692EC                  Kamigata To Boots    The Mass Missile   \n",
       "2        20EC38                  Funiculì funiculà         Mario Lanza   \n",
       "3      A3DD03C9              Dragons in the Sunset          Fire + Ice   \n",
       "5      842029A1                          Преданная           IMPERVTOR   \n",
       "9      E772D5C0                          Pessimist             unknown   \n",
       "...         ...                                ...                 ...   \n",
       "61239  D94F810B        Theme from the Walking Dead  Proyecto Halloween   \n",
       "61240  BC8EC5CF       Red Lips: Gta (Rover Rework)               Rover   \n",
       "61241  29E04611                       Bre Petrunko       Perunika Trio   \n",
       "61242  1B91C621             (Hello) Cloud Mountain     sleepmakeswaves   \n",
       "61249  D08D4A55  Maybe One Day (feat. Black Spade)         Blu & Exile   \n",
       "\n",
       "            genre              city      time        day  \n",
       "0            rock  Saint-Petersburg  20:28:33  Wednesday  \n",
       "2             pop  Saint-Petersburg  20:58:07  Wednesday  \n",
       "3            folk  Saint-Petersburg  08:37:09     Monday  \n",
       "5          rusrap  Saint-Petersburg  13:09:41     Friday  \n",
       "9           dance  Saint-Petersburg  21:20:49  Wednesday  \n",
       "...           ...               ...       ...        ...  \n",
       "61239        film  Saint-Petersburg  21:14:40     Monday  \n",
       "61240  electronic  Saint-Petersburg  21:06:50     Monday  \n",
       "61241       world  Saint-Petersburg  13:56:00     Monday  \n",
       "61242    postrock  Saint-Petersburg  09:22:13     Monday  \n",
       "61249      hiphop  Saint-Petersburg  10:00:00     Monday  \n",
       "\n",
       "[18512 rows x 7 columns]"
      ]
     },
     "metadata": {},
     "output_type": "display_data"
    }
   ],
   "source": [
    "spb_general = df[df['city'] == 'Saint-Petersburg']\n",
    "display(spb_general) # Получение таблицы spb_general из тех строк таблицы df,\n",
    "# для которых значение в столбце 'city' равно 'Saint-Petersburg'\n"
   ]
  },
  {
   "cell_type": "markdown",
   "metadata": {
    "id": "MEJV-CX2_Zcu"
   },
   "source": [
    "Создайте функцию `genre_weekday()` с четырьмя параметрами:\n",
    "* таблица (датафрейм) с данными,\n",
    "* день недели,\n",
    "* начальная временная метка в формате 'hh:mm', \n",
    "* последняя временная метка в формате 'hh:mm'.\n",
    "\n",
    "Функция должна вернуть информацию о топ-10 жанров тех треков, которые прослушивали в указанный день, в промежутке между двумя отметками времени."
   ]
  },
  {
   "cell_type": "code",
   "execution_count": 30,
   "metadata": {
    "id": "laJT9BYl_Zcu"
   },
   "outputs": [],
   "source": [
    "# Объявление функции genre_weekday() с параметрами table, day, time1, time2,\n",
    "# которая возвращает информацию о самых популярных жанрах в указанный день в заданное время.\n",
    "\n",
    "def genre_df_count(table, day, time1, time2):\n",
    "    genre_df = table[(table['day'] == day) & (table['time'] > time1) & (table['time'] < time2)] # Логическая фильтрация по времени и дню\n",
    "    genre_df_count =   genre_df.groupby('genre')['genre'].count() # Группировка значений и подсчет прослушиваний по жанрам\n",
    "    genre_df_sorted = genre_df_count.sort_values(ascending = False) # Сортировка значений  по убыванию\n",
    "    return genre_df_sorted.head(10) # Возвращение 10 топ жаноров с количеством прослушиваний"
   ]
  },
  {
   "cell_type": "markdown",
   "metadata": {
    "id": "la2s2_PF_Zcu"
   },
   "source": [
    "Cравните результаты функции `genre_weekday()` для Москвы и Санкт-Петербурга в понедельник утром (с 7:00 до 11:00) и в пятницу вечером (с 17:00 до 23:00):"
   ]
  },
  {
   "cell_type": "code",
   "execution_count": 31,
   "metadata": {
    "id": "yz7itPUQ_Zcu"
   },
   "outputs": [
    {
     "data": {
      "text/plain": [
       "genre\n",
       "pop            781\n",
       "dance          549\n",
       "electronic     480\n",
       "rock           474\n",
       "hiphop         286\n",
       "ruspop         186\n",
       "world          181\n",
       "rusrap         175\n",
       "alternative    164\n",
       "unknown        161\n",
       "Name: genre, dtype: int64"
      ]
     },
     "metadata": {},
     "output_type": "display_data"
    }
   ],
   "source": [
    "display(genre_df_count(moscow_general, 'Monday', '07:00', '11:00')) # Вызов функции для утра понедельника в Москве"
   ]
  },
  {
   "cell_type": "code",
   "execution_count": 32,
   "metadata": {
    "id": "kwUcHPdy_Zcu"
   },
   "outputs": [
    {
     "data": {
      "text/plain": [
       "genre\n",
       "pop            218\n",
       "dance          182\n",
       "rock           162\n",
       "electronic     147\n",
       "hiphop          80\n",
       "ruspop          64\n",
       "alternative     58\n",
       "rusrap          55\n",
       "jazz            44\n",
       "classical       40\n",
       "Name: genre, dtype: int64"
      ]
     },
     "metadata": {},
     "output_type": "display_data"
    }
   ],
   "source": [
    "display(genre_df_count(spb_general, 'Monday', '07:00', '11:00'))# вызов функции для утра понедельника в Петербурге"
   ]
  },
  {
   "cell_type": "code",
   "execution_count": 33,
   "metadata": {
    "id": "EzXVRE1o_Zcu"
   },
   "outputs": [
    {
     "data": {
      "text/plain": [
       "genre\n",
       "pop            713\n",
       "rock           517\n",
       "dance          495\n",
       "electronic     482\n",
       "hiphop         273\n",
       "world          208\n",
       "ruspop         170\n",
       "alternative    163\n",
       "classical      163\n",
       "rusrap         142\n",
       "Name: genre, dtype: int64"
      ]
     },
     "metadata": {},
     "output_type": "display_data"
    }
   ],
   "source": [
    "display(genre_df_count(moscow_general, 'Friday', '17:00', '23:00'))# вызов функции для вечера пятницы в Москве"
   ]
  },
  {
   "cell_type": "code",
   "execution_count": 34,
   "metadata": {
    "id": "JZaEKu5v_Zcu"
   },
   "outputs": [
    {
     "data": {
      "text/plain": [
       "genre\n",
       "pop            256\n",
       "electronic     216\n",
       "rock           216\n",
       "dance          210\n",
       "hiphop          97\n",
       "alternative     63\n",
       "jazz            61\n",
       "classical       60\n",
       "rusrap          59\n",
       "world           54\n",
       "Name: genre, dtype: int64"
      ]
     },
     "metadata": {},
     "output_type": "display_data"
    }
   ],
   "source": [
    "display(genre_df_count(spb_general, 'Friday', '17:00', '23:00'))# вызов функции для вечера пятницы в Петербурге"
   ]
  },
  {
   "cell_type": "markdown",
   "metadata": {
    "id": "wrCe4MNX_Zcu"
   },
   "source": [
    "**Выводы**\n",
    "\n",
    "Если сравнить топ-10 жанров в понедельник утром, можно сделать такие выводы:\n",
    "\n",
    "1. В Москве и Петербурге слушают похожую музыку. Единственное отличие — в московский рейтинг вошёл жанр “world”, а в петербургский — джаз и классика.\n",
    "\n",
    "2. В Москве пропущенных значений оказалось так много, что значение `'unknown'` заняло десятое место среди самых популярных жанров. Значит, пропущенные значения занимают существенную долю в данных и угрожают достоверности исследования.\n",
    "\n",
    "Вечер пятницы не меняет эту картину. Некоторые жанры поднимаются немного выше, другие спускаются, но в целом топ-10 остаётся тем же самым.\n",
    "\n",
    "Таким образом, вторая гипотеза подтвердилась лишь частично:\n",
    "* Пользователи слушают похожую музыку в начале недели и в конце.\n",
    "* Разница между Москвой и Петербургом не слишком выражена. В Москве чаще слушают русскую популярную музыку, в Петербурге — джаз.\n",
    "\n",
    "Однако пропуски в данных ставят под сомнение этот результат. В Москве их так много, что рейтинг топ-10 мог бы выглядеть иначе, если бы не утерянные  данные о жанрах."
   ]
  },
  {
   "cell_type": "markdown",
   "metadata": {
    "id": "JolODAqr_Zcu"
   },
   "source": [
    "### Жанровые предпочтения в Москве и Петербурге\n",
    "\n",
    "Гипотеза: Петербург — столица рэпа, музыку этого жанра там слушают чаще, чем в Москве.  А Москва — город контрастов, в котором, тем не менее, преобладает поп-музыка."
   ]
  },
  {
   "cell_type": "markdown",
   "metadata": {
    "id": "DlegSvaT_Zcu"
   },
   "source": [
    "Сгруппируйте таблицу `moscow_general` по жанру и посчитайте прослушивания треков каждого жанра методом `count()`. Затем отсортируйте результат в порядке убывания и сохраните его в таблице `moscow_genres`."
   ]
  },
  {
   "cell_type": "code",
   "execution_count": 35,
   "metadata": {
    "id": "r19lIPke_Zcu"
   },
   "outputs": [],
   "source": [
    "moscow_genres = moscow_general.groupby('genre')['genre'].count() # Группировка таблицы moscow_general по столбцу 'genre'\n",
    "# Подсчет прослушиваний по жанру\n",
    "moscow_genres = moscow_genres.sort_values(ascending = False) # Сортировка получившегося Series в порядке убывания и сохранение в moscow_genres"
   ]
  },
  {
   "cell_type": "markdown",
   "metadata": {
    "id": "6kMuomxTiIr8"
   },
   "source": [
    "Выведите на экран первые десять строк `moscow_genres`:"
   ]
  },
  {
   "cell_type": "code",
   "execution_count": 36,
   "metadata": {
    "id": "WhCSooF8_Zcv"
   },
   "outputs": [
    {
     "name": "stdout",
     "output_type": "stream",
     "text": [
      "genre\n",
      "pop            5892\n",
      "dance          4435\n",
      "rock           3965\n",
      "electronic     3786\n",
      "hiphop         2096\n",
      "classical      1616\n",
      "world          1432\n",
      "alternative    1379\n",
      "ruspop         1372\n",
      "rusrap         1161\n",
      "Name: genre, dtype: int64\n"
     ]
    }
   ],
   "source": [
    "moscow_genres.head(10) # Просмотр первых 10 строк moscow_genres"
   ]
  },
  {
   "cell_type": "markdown",
   "metadata": {
    "id": "cnPG2vnN_Zcv"
   },
   "source": [
    "Теперь повторите то же и для Петербурга.\n",
    "\n",
    "Сгруппируйте таблицу `spb_general` по жанру. Посчитайте прослушивания треков каждого жанра. Результат отсортируйте в порядке убывания и сохраните в таблице `spb_genres`:\n"
   ]
  },
  {
   "cell_type": "code",
   "execution_count": 37,
   "metadata": {
    "id": "gluLIpE7_Zcv"
   },
   "outputs": [],
   "source": [
    "spb_genres = spb_general.groupby('genre')['genre'].count()# Группировка таблицы spb_general по столбцу 'genre'\n",
    "# Подсчет прослушиваний по жанру\n",
    "spb_genres = spb_genres.sort_values(ascending = False) # Сортировка получившегося Series в порядке убывания \n",
    "# Сортировка получившегося Series в порядке убывания и сохранение в moscow_genres\n",
    "# И сохранение в spb_genres"
   ]
  },
  {
   "cell_type": "markdown",
   "metadata": {
    "id": "5Doha_ODgyQ8"
   },
   "source": [
    "Выведите на экран первые десять строк `spb_genres`:"
   ]
  },
  {
   "cell_type": "code",
   "execution_count": 42,
   "metadata": {
    "id": "uaGJHjVU_Zcv"
   },
   "outputs": [
    {
     "data": {
      "text/plain": [
       "genre\n",
       "pop            2431\n",
       "dance          1932\n",
       "rock           1879\n",
       "electronic     1737\n",
       "hiphop          960\n",
       "alternative     649\n",
       "classical       646\n",
       "rusrap          564\n",
       "ruspop          538\n",
       "world           515\n",
       "Name: genre, dtype: int64"
      ]
     },
     "execution_count": 42,
     "metadata": {},
     "output_type": "execute_result"
    }
   ],
   "source": [
    "spb_genres.head(10) # Просмотр первых 10 строк spb_genres"
   ]
  },
  {
   "cell_type": "markdown",
   "metadata": {
    "id": "RY51YJYu_Zcv"
   },
   "source": [
    "**Выводы**"
   ]
  },
  {
   "cell_type": "markdown",
   "metadata": {
    "id": "nVhnJEm__Zcv"
   },
   "source": [
    "Гипотеза частично подтвердилась:\n",
    "* Поп-музыка — самый популярный жанр в Москве, как и предполагала гипотеза. Более того, в топ-10 жанров встречается близкий жанр — русская популярная музыка.\n",
    "* Вопреки ожиданиям, рэп одинаково популярен в Москве и Петербурге. \n"
   ]
  },
  {
   "cell_type": "markdown",
   "metadata": {
    "id": "ykKQ0N65_Zcv"
   },
   "source": [
    "## Итоги исследования"
   ]
  },
  {
   "cell_type": "markdown",
   "metadata": {
    "id": "tjUwbHb3_Zcv"
   },
   "source": [
    "Вы проверили три гипотезы и установили:\n",
    "\n",
    "1. День недели по-разному влияет на активность пользователей в Москве и Петербурге. \n",
    "\n",
    "Первая гипотеза полностью подтвердилась.\n",
    "\n",
    "2. Музыкальные предпочтения не сильно меняются в течение недели — будь то Москва или Петербург. Небольшие различия заметны в начале недели, по понедельникам:\n",
    "* в Москве слушают музыку жанра “world”,\n",
    "* в Петербурге — джаз и классику.\n",
    "\n",
    "Таким образом, вторая гипотеза подтвердилась лишь отчасти. Этот результат мог оказаться иным, если бы не пропуски в данных.\n",
    "\n",
    "3. Во вкусах пользователей Москвы и Петербурга больше общего чем различий. Вопреки ожиданиям, предпочтения жанров в Петербурге напоминают московские.\n",
    "\n",
    "Третья гипотеза не подтвердилась. Если различия в предпочтениях и существуют, на основной массе пользователей они незаметны.\n",
    "\n",
    "**На практике исследования содержат проверки статистических гипотез.**\n",
    "Из данных одного сервиса не всегда можно сделать вывод о всех жителях города.\n",
    "Проверки статистических гипотез покажут, насколько они достоверны, исходя из имеющихся данных. \n",
    "С методами проверок гипотез вы ещё познакомитесь в следующих темах."
   ]
  }
 ],
 "metadata": {
  "ExecuteTimeLog": [
   {
    "duration": 63,
    "start_time": "2022-05-23T11:09:15.983Z"
   },
   {
    "duration": 6,
    "start_time": "2022-05-23T11:09:57.552Z"
   },
   {
    "duration": 6,
    "start_time": "2022-05-23T11:10:16.051Z"
   },
   {
    "duration": 811,
    "start_time": "2022-05-23T11:11:07.192Z"
   },
   {
    "duration": 4,
    "start_time": "2022-05-23T11:11:29.089Z"
   },
   {
    "duration": 55,
    "start_time": "2022-05-23T11:11:31.604Z"
   },
   {
    "duration": 8,
    "start_time": "2022-05-23T11:15:35.318Z"
   },
   {
    "duration": 50,
    "start_time": "2022-05-23T11:16:01.437Z"
   },
   {
    "duration": 55,
    "start_time": "2022-05-23T11:16:27.753Z"
   },
   {
    "duration": 25,
    "start_time": "2022-05-23T11:31:51.200Z"
   },
   {
    "duration": 28,
    "start_time": "2022-05-23T11:31:59.643Z"
   },
   {
    "duration": 60,
    "start_time": "2022-05-23T11:32:06.657Z"
   },
   {
    "duration": 47,
    "start_time": "2022-05-23T11:32:11.660Z"
   },
   {
    "duration": 33,
    "start_time": "2022-05-23T11:33:44.632Z"
   },
   {
    "duration": 81,
    "start_time": "2022-05-23T11:35:13.001Z"
   },
   {
    "duration": 49,
    "start_time": "2022-05-23T11:37:36.468Z"
   },
   {
    "duration": 63,
    "start_time": "2022-05-23T11:37:53.489Z"
   },
   {
    "duration": 48,
    "start_time": "2022-05-23T11:37:58.714Z"
   },
   {
    "duration": 8,
    "start_time": "2022-05-23T11:38:03.903Z"
   },
   {
    "duration": 29,
    "start_time": "2022-05-23T11:38:15.241Z"
   },
   {
    "duration": 255,
    "start_time": "2022-05-23T11:38:38.132Z"
   },
   {
    "duration": 19,
    "start_time": "2022-05-23T11:38:42.959Z"
   },
   {
    "duration": 33,
    "start_time": "2022-05-23T11:40:32.022Z"
   },
   {
    "duration": 30,
    "start_time": "2022-05-23T11:40:44.406Z"
   },
   {
    "duration": 10,
    "start_time": "2022-05-23T11:57:36.756Z"
   },
   {
    "duration": 5,
    "start_time": "2022-05-23T11:57:45.047Z"
   },
   {
    "duration": 4,
    "start_time": "2022-05-23T11:58:17.873Z"
   },
   {
    "duration": 10,
    "start_time": "2022-05-23T12:01:08.545Z"
   },
   {
    "duration": 29,
    "start_time": "2022-05-23T12:04:28.892Z"
   },
   {
    "duration": 4,
    "start_time": "2022-05-23T12:05:11.899Z"
   },
   {
    "duration": 4,
    "start_time": "2022-05-23T12:06:39.384Z"
   },
   {
    "duration": 15,
    "start_time": "2022-05-23T12:06:46.930Z"
   },
   {
    "duration": 12,
    "start_time": "2022-05-23T12:06:50.839Z"
   },
   {
    "duration": 4,
    "start_time": "2022-05-23T12:06:52.533Z"
   },
   {
    "duration": 3,
    "start_time": "2022-05-23T12:07:07.353Z"
   },
   {
    "duration": 3,
    "start_time": "2022-05-23T12:07:14.512Z"
   },
   {
    "duration": 4,
    "start_time": "2022-05-23T12:07:20.640Z"
   },
   {
    "duration": 3,
    "start_time": "2022-05-23T12:07:50.357Z"
   },
   {
    "duration": 13,
    "start_time": "2022-05-23T12:08:06.490Z"
   },
   {
    "duration": 4,
    "start_time": "2022-05-23T12:08:09.943Z"
   },
   {
    "duration": 8,
    "start_time": "2022-05-23T12:08:24.851Z"
   },
   {
    "duration": 3,
    "start_time": "2022-05-23T12:08:43.759Z"
   },
   {
    "duration": 31,
    "start_time": "2022-05-23T12:10:22.048Z"
   },
   {
    "duration": 10,
    "start_time": "2022-05-23T12:10:43.862Z"
   },
   {
    "duration": 26,
    "start_time": "2022-05-23T12:12:16.085Z"
   },
   {
    "duration": 25,
    "start_time": "2022-05-23T12:17:13.498Z"
   },
   {
    "duration": 20,
    "start_time": "2022-05-23T12:17:16.101Z"
   },
   {
    "duration": 43,
    "start_time": "2022-05-23T12:19:18.491Z"
   },
   {
    "duration": 26,
    "start_time": "2022-05-23T12:19:30.969Z"
   },
   {
    "duration": 69,
    "start_time": "2022-05-23T12:20:23.427Z"
   },
   {
    "duration": 58,
    "start_time": "2022-05-23T12:20:34.626Z"
   },
   {
    "duration": 74,
    "start_time": "2022-05-23T12:20:59.354Z"
   },
   {
    "duration": 68,
    "start_time": "2022-05-23T12:21:22.929Z"
   },
   {
    "duration": 87,
    "start_time": "2022-05-23T12:21:33.355Z"
   },
   {
    "duration": 62,
    "start_time": "2022-05-23T12:21:42.650Z"
   },
   {
    "duration": 6,
    "start_time": "2022-05-23T12:22:32.090Z"
   },
   {
    "duration": 9,
    "start_time": "2022-05-23T12:28:28.519Z"
   },
   {
    "duration": 17,
    "start_time": "2022-05-23T12:28:57.511Z"
   },
   {
    "duration": 48,
    "start_time": "2022-05-23T12:29:34.361Z"
   },
   {
    "duration": 5,
    "start_time": "2022-05-23T12:29:57.186Z"
   },
   {
    "duration": 63,
    "start_time": "2022-05-23T12:31:05.165Z"
   },
   {
    "duration": 8,
    "start_time": "2022-05-23T12:31:25.736Z"
   },
   {
    "duration": 8,
    "start_time": "2022-05-23T12:31:35.728Z"
   },
   {
    "duration": 73,
    "start_time": "2022-05-23T12:31:50.595Z"
   },
   {
    "duration": 66,
    "start_time": "2022-05-23T12:32:20.911Z"
   },
   {
    "duration": 9,
    "start_time": "2022-05-23T12:33:06.579Z"
   },
   {
    "duration": 49,
    "start_time": "2022-05-23T12:33:12.630Z"
   },
   {
    "duration": 4,
    "start_time": "2022-05-23T12:43:15.529Z"
   },
   {
    "duration": 37,
    "start_time": "2022-05-23T12:46:42.683Z"
   },
   {
    "duration": 54,
    "start_time": "2022-05-23T12:47:00.166Z"
   },
   {
    "duration": 30,
    "start_time": "2022-05-23T12:47:14.243Z"
   },
   {
    "duration": 81,
    "start_time": "2022-05-23T12:47:17.809Z"
   },
   {
    "duration": 45,
    "start_time": "2022-05-23T12:48:14.508Z"
   },
   {
    "duration": 9,
    "start_time": "2022-05-23T12:49:52.287Z"
   },
   {
    "duration": 44,
    "start_time": "2022-05-23T12:49:54.378Z"
   },
   {
    "duration": 78,
    "start_time": "2022-05-23T12:51:45.869Z"
   },
   {
    "duration": 16,
    "start_time": "2022-05-23T12:52:09.442Z"
   },
   {
    "duration": 29,
    "start_time": "2022-05-23T12:52:25.386Z"
   },
   {
    "duration": 129,
    "start_time": "2022-05-23T12:52:51.364Z"
   },
   {
    "duration": 45,
    "start_time": "2022-05-23T13:36:26.951Z"
   },
   {
    "duration": 62,
    "start_time": "2022-05-23T13:36:47.496Z"
   },
   {
    "duration": 45,
    "start_time": "2022-05-23T13:36:50.601Z"
   },
   {
    "duration": 61,
    "start_time": "2022-05-23T13:37:23.687Z"
   },
   {
    "duration": 43,
    "start_time": "2022-05-23T13:37:29.584Z"
   },
   {
    "duration": 40,
    "start_time": "2022-05-23T13:38:22.008Z"
   },
   {
    "duration": 60,
    "start_time": "2022-05-23T13:38:43.115Z"
   },
   {
    "duration": 44,
    "start_time": "2022-05-23T13:38:46.031Z"
   },
   {
    "duration": 45,
    "start_time": "2022-05-23T13:39:32.182Z"
   },
   {
    "duration": 43,
    "start_time": "2022-05-23T13:39:35.619Z"
   },
   {
    "duration": 23,
    "start_time": "2022-05-23T13:45:36.539Z"
   },
   {
    "duration": 25,
    "start_time": "2022-05-23T13:45:49.466Z"
   },
   {
    "duration": 48,
    "start_time": "2022-05-23T13:45:52.999Z"
   },
   {
    "duration": 404,
    "start_time": "2022-05-23T14:04:33.808Z"
   },
   {
    "duration": 19,
    "start_time": "2022-05-23T14:06:07.261Z"
   },
   {
    "duration": 27,
    "start_time": "2022-05-23T14:06:31.326Z"
   },
   {
    "duration": 25,
    "start_time": "2022-05-23T14:08:00.346Z"
   },
   {
    "duration": 26,
    "start_time": "2022-05-23T14:08:09.948Z"
   },
   {
    "duration": 12,
    "start_time": "2022-05-23T14:38:23.217Z"
   },
   {
    "duration": 22,
    "start_time": "2022-05-23T14:42:41.133Z"
   },
   {
    "duration": 37,
    "start_time": "2022-05-23T14:42:44.844Z"
   },
   {
    "duration": 41,
    "start_time": "2022-05-23T14:42:48.597Z"
   },
   {
    "duration": 63,
    "start_time": "2022-05-23T18:11:16.226Z"
   },
   {
    "duration": 8,
    "start_time": "2022-05-23T18:11:50.925Z"
   },
   {
    "duration": 14,
    "start_time": "2022-05-23T18:12:59.169Z"
   },
   {
    "duration": 6,
    "start_time": "2022-05-23T18:13:05.864Z"
   },
   {
    "duration": 10,
    "start_time": "2022-05-23T18:13:14.884Z"
   },
   {
    "duration": 7,
    "start_time": "2022-05-23T18:13:31.291Z"
   },
   {
    "duration": 18,
    "start_time": "2022-05-23T18:13:38.767Z"
   },
   {
    "duration": 8,
    "start_time": "2022-05-23T18:13:43.381Z"
   },
   {
    "duration": 8,
    "start_time": "2022-05-23T18:13:50.612Z"
   },
   {
    "duration": 446,
    "start_time": "2022-05-23T18:13:55.261Z"
   },
   {
    "duration": 29,
    "start_time": "2022-05-23T18:14:59.340Z"
   },
   {
    "duration": 270,
    "start_time": "2022-05-23T18:15:19.692Z"
   },
   {
    "duration": 9,
    "start_time": "2022-05-23T18:15:30.990Z"
   },
   {
    "duration": 443,
    "start_time": "2022-05-23T18:15:36.221Z"
   },
   {
    "duration": 4,
    "start_time": "2022-05-23T18:16:06.289Z"
   },
   {
    "duration": 4,
    "start_time": "2022-05-23T18:16:12.158Z"
   },
   {
    "duration": 12,
    "start_time": "2022-05-23T18:16:16.201Z"
   },
   {
    "duration": 4,
    "start_time": "2022-05-23T18:16:20.029Z"
   },
   {
    "duration": 36,
    "start_time": "2022-05-23T18:16:29.823Z"
   },
   {
    "duration": 36,
    "start_time": "2022-05-23T18:16:34.050Z"
   },
   {
    "duration": 29,
    "start_time": "2022-05-23T18:16:47.679Z"
   },
   {
    "duration": 44,
    "start_time": "2022-05-23T18:16:50.576Z"
   },
   {
    "duration": 7,
    "start_time": "2022-05-23T18:29:49.648Z"
   },
   {
    "duration": 329,
    "start_time": "2022-05-23T18:30:00.423Z"
   },
   {
    "duration": 42,
    "start_time": "2022-05-23T18:31:08.651Z"
   },
   {
    "duration": 22,
    "start_time": "2022-05-23T18:38:11.332Z"
   },
   {
    "duration": 12,
    "start_time": "2022-05-23T18:44:03.448Z"
   },
   {
    "duration": 480,
    "start_time": "2022-05-23T18:44:33.472Z"
   },
   {
    "duration": 43,
    "start_time": "2022-05-23T18:44:44.352Z"
   },
   {
    "duration": 25,
    "start_time": "2022-05-23T18:45:02.800Z"
   },
   {
    "duration": 10,
    "start_time": "2022-05-23T18:45:17.118Z"
   },
   {
    "duration": 3,
    "start_time": "2022-05-23T18:48:15.994Z"
   },
   {
    "duration": 3,
    "start_time": "2022-05-23T18:48:29.389Z"
   },
   {
    "duration": 15,
    "start_time": "2022-05-23T18:50:46.478Z"
   },
   {
    "duration": 22,
    "start_time": "2022-05-23T18:52:00.641Z"
   },
   {
    "duration": 26,
    "start_time": "2022-05-23T18:54:51.875Z"
   },
   {
    "duration": 30,
    "start_time": "2022-05-23T19:06:27.397Z"
   },
   {
    "duration": 27,
    "start_time": "2022-05-23T19:11:22.190Z"
   },
   {
    "duration": 26,
    "start_time": "2022-05-23T19:11:35.555Z"
   },
   {
    "duration": 14,
    "start_time": "2022-05-23T19:11:46.271Z"
   },
   {
    "duration": 22,
    "start_time": "2022-05-23T19:12:24.956Z"
   },
   {
    "duration": 9,
    "start_time": "2022-05-23T19:12:27.451Z"
   },
   {
    "duration": 27,
    "start_time": "2022-05-23T19:13:02.190Z"
   },
   {
    "duration": 13,
    "start_time": "2022-05-23T19:13:48.274Z"
   },
   {
    "duration": 20,
    "start_time": "2022-05-23T19:13:56.020Z"
   },
   {
    "duration": 15,
    "start_time": "2022-05-23T19:13:57.621Z"
   },
   {
    "duration": 17,
    "start_time": "2022-05-23T19:13:58.297Z"
   },
   {
    "duration": 23,
    "start_time": "2022-05-23T19:13:58.783Z"
   },
   {
    "duration": 11,
    "start_time": "2022-05-23T19:14:01.968Z"
   },
   {
    "duration": 22,
    "start_time": "2022-05-23T19:14:09.085Z"
   },
   {
    "duration": 4,
    "start_time": "2022-05-23T19:14:14.589Z"
   },
   {
    "duration": 4,
    "start_time": "2022-05-23T19:14:18.806Z"
   },
   {
    "duration": 7,
    "start_time": "2022-05-23T19:15:57.121Z"
   },
   {
    "duration": 25,
    "start_time": "2022-05-23T19:19:24.361Z"
   },
   {
    "duration": 14,
    "start_time": "2022-05-23T19:19:52.801Z"
   },
   {
    "duration": 45,
    "start_time": "2022-05-23T19:23:03.963Z"
   },
   {
    "duration": 64,
    "start_time": "2022-05-24T10:16:39.249Z"
   },
   {
    "duration": 9,
    "start_time": "2022-05-24T10:17:09.301Z"
   },
   {
    "duration": 423,
    "start_time": "2022-05-24T10:18:26.631Z"
   },
   {
    "duration": 761,
    "start_time": "2022-05-24T10:18:27.056Z"
   },
   {
    "duration": 18,
    "start_time": "2022-05-24T10:18:27.818Z"
   },
   {
    "duration": 29,
    "start_time": "2022-05-24T10:18:27.838Z"
   },
   {
    "duration": 13,
    "start_time": "2022-05-24T10:18:27.869Z"
   },
   {
    "duration": 31,
    "start_time": "2022-05-24T10:18:27.884Z"
   },
   {
    "duration": 25,
    "start_time": "2022-05-24T10:18:27.917Z"
   },
   {
    "duration": 39,
    "start_time": "2022-05-24T10:18:27.944Z"
   },
   {
    "duration": 27,
    "start_time": "2022-05-24T10:18:27.984Z"
   },
   {
    "duration": 27,
    "start_time": "2022-05-24T10:18:28.013Z"
   },
   {
    "duration": 74,
    "start_time": "2022-05-24T10:18:28.042Z"
   },
   {
    "duration": 86,
    "start_time": "2022-05-24T10:18:28.118Z"
   },
   {
    "duration": 61,
    "start_time": "2022-05-24T10:18:28.205Z"
   },
   {
    "duration": 54,
    "start_time": "2022-05-24T10:18:28.269Z"
   },
   {
    "duration": 11,
    "start_time": "2022-05-24T10:18:28.325Z"
   },
   {
    "duration": 38,
    "start_time": "2022-05-24T10:18:28.338Z"
   },
   {
    "duration": 47,
    "start_time": "2022-05-24T10:18:28.378Z"
   },
   {
    "duration": 21,
    "start_time": "2022-05-24T10:18:28.427Z"
   },
   {
    "duration": 45,
    "start_time": "2022-05-24T10:18:28.450Z"
   },
   {
    "duration": 3,
    "start_time": "2022-05-24T10:18:28.497Z"
   },
   {
    "duration": 36,
    "start_time": "2022-05-24T10:18:28.502Z"
   },
   {
    "duration": 15,
    "start_time": "2022-05-24T10:18:28.540Z"
   },
   {
    "duration": 33,
    "start_time": "2022-05-24T10:18:28.556Z"
   },
   {
    "duration": 14,
    "start_time": "2022-05-24T10:18:28.591Z"
   },
   {
    "duration": 17,
    "start_time": "2022-05-24T10:18:28.607Z"
   },
   {
    "duration": 17,
    "start_time": "2022-05-24T10:18:28.626Z"
   },
   {
    "duration": 7,
    "start_time": "2022-05-24T10:18:28.645Z"
   },
   {
    "duration": 21,
    "start_time": "2022-05-24T10:18:28.653Z"
   },
   {
    "duration": 27,
    "start_time": "2022-05-24T10:18:28.676Z"
   },
   {
    "duration": 22,
    "start_time": "2022-05-24T10:18:28.705Z"
   },
   {
    "duration": 3,
    "start_time": "2022-05-24T10:18:28.729Z"
   },
   {
    "duration": 26,
    "start_time": "2022-05-24T10:18:28.733Z"
   },
   {
    "duration": 5,
    "start_time": "2022-05-24T10:18:28.760Z"
   },
   {
    "duration": 12,
    "start_time": "2022-05-24T10:18:28.767Z"
   },
   {
    "duration": 17,
    "start_time": "2022-05-24T10:18:28.781Z"
   },
   {
    "duration": 22,
    "start_time": "2022-05-24T10:18:28.800Z"
   },
   {
    "duration": 8,
    "start_time": "2022-05-24T10:18:28.824Z"
   },
   {
    "duration": 29,
    "start_time": "2022-05-24T10:18:28.833Z"
   },
   {
    "duration": 22,
    "start_time": "2022-05-24T10:18:54.646Z"
   },
   {
    "duration": 21,
    "start_time": "2022-05-24T10:19:58.298Z"
   },
   {
    "duration": 25,
    "start_time": "2022-05-24T10:20:18.660Z"
   },
   {
    "duration": 37,
    "start_time": "2022-05-24T10:21:41.034Z"
   },
   {
    "duration": 31,
    "start_time": "2022-05-24T10:24:49.991Z"
   },
   {
    "duration": 84,
    "start_time": "2022-05-24T10:32:23.057Z"
   },
   {
    "duration": 60,
    "start_time": "2022-05-24T10:32:57.074Z"
   },
   {
    "duration": 27,
    "start_time": "2022-05-24T10:33:00.672Z"
   },
   {
    "duration": 31,
    "start_time": "2022-05-24T10:33:03.615Z"
   },
   {
    "duration": 13,
    "start_time": "2022-05-24T10:33:28.130Z"
   },
   {
    "duration": 10,
    "start_time": "2022-05-24T10:33:31.188Z"
   },
   {
    "duration": 26,
    "start_time": "2022-05-24T10:33:34.496Z"
   },
   {
    "duration": 30,
    "start_time": "2022-05-24T10:33:38.825Z"
   },
   {
    "duration": 34,
    "start_time": "2022-05-24T10:33:56.013Z"
   },
   {
    "duration": 49,
    "start_time": "2022-05-24T10:34:10.670Z"
   },
   {
    "duration": 35,
    "start_time": "2022-05-24T10:34:55.113Z"
   },
   {
    "duration": 27,
    "start_time": "2022-05-24T10:35:23.507Z"
   },
   {
    "duration": 18,
    "start_time": "2022-05-24T10:35:30.455Z"
   },
   {
    "duration": 19,
    "start_time": "2022-05-24T10:35:36.492Z"
   },
   {
    "duration": 16,
    "start_time": "2022-05-24T10:35:42.797Z"
   },
   {
    "duration": 75,
    "start_time": "2022-05-24T10:38:56.637Z"
   },
   {
    "duration": 9,
    "start_time": "2022-05-24T10:39:02.520Z"
   },
   {
    "duration": 5,
    "start_time": "2022-05-24T10:39:05.225Z"
   },
   {
    "duration": 10,
    "start_time": "2022-05-24T10:41:57.798Z"
   },
   {
    "duration": 9,
    "start_time": "2022-05-24T10:42:03.369Z"
   },
   {
    "duration": 5,
    "start_time": "2022-05-24T10:42:06.355Z"
   },
   {
    "duration": 9,
    "start_time": "2022-05-24T10:42:18.246Z"
   },
   {
    "duration": 47,
    "start_time": "2022-05-24T10:58:59.560Z"
   },
   {
    "duration": 46,
    "start_time": "2022-05-24T10:59:07.664Z"
   },
   {
    "duration": 36,
    "start_time": "2022-05-24T10:59:15.261Z"
   },
   {
    "duration": 31,
    "start_time": "2022-05-24T10:59:19.125Z"
   },
   {
    "duration": 5,
    "start_time": "2022-05-24T11:00:11.570Z"
   },
   {
    "duration": 5,
    "start_time": "2022-05-24T11:00:15.318Z"
   },
   {
    "duration": 6,
    "start_time": "2022-05-24T11:00:18.706Z"
   },
   {
    "duration": 4,
    "start_time": "2022-05-24T11:01:46.915Z"
   },
   {
    "duration": 31,
    "start_time": "2022-05-24T11:16:56.713Z"
   },
   {
    "duration": 30,
    "start_time": "2022-05-24T11:17:20.173Z"
   },
   {
    "duration": 28,
    "start_time": "2022-05-24T11:22:54.553Z"
   },
   {
    "duration": 34,
    "start_time": "2022-05-24T11:29:05.814Z"
   },
   {
    "duration": 3,
    "start_time": "2022-05-24T11:32:21.004Z"
   },
   {
    "duration": 15,
    "start_time": "2022-05-24T11:32:26.702Z"
   },
   {
    "duration": 4,
    "start_time": "2022-05-24T11:33:19.454Z"
   },
   {
    "duration": 298,
    "start_time": "2022-05-24T11:33:23.999Z"
   },
   {
    "duration": 4,
    "start_time": "2022-05-24T11:34:53.020Z"
   },
   {
    "duration": 19,
    "start_time": "2022-05-24T11:34:56.355Z"
   },
   {
    "duration": 4,
    "start_time": "2022-05-24T11:35:29.848Z"
   },
   {
    "duration": 1488,
    "start_time": "2022-05-24T11:35:32.709Z"
   },
   {
    "duration": 4,
    "start_time": "2022-05-24T11:35:42.134Z"
   },
   {
    "duration": 1255,
    "start_time": "2022-05-24T11:35:44.236Z"
   },
   {
    "duration": 4,
    "start_time": "2022-05-24T11:36:07.486Z"
   },
   {
    "duration": 19,
    "start_time": "2022-05-24T11:36:09.934Z"
   },
   {
    "duration": 28,
    "start_time": "2022-05-24T11:36:14.304Z"
   },
   {
    "duration": 4,
    "start_time": "2022-05-24T11:36:19.178Z"
   },
   {
    "duration": 21,
    "start_time": "2022-05-24T11:36:24.150Z"
   },
   {
    "duration": 18,
    "start_time": "2022-05-24T11:36:39.686Z"
   },
   {
    "duration": 412,
    "start_time": "2022-05-24T11:57:05.324Z"
   },
   {
    "duration": 3,
    "start_time": "2022-05-24T11:57:06.180Z"
   },
   {
    "duration": 225,
    "start_time": "2022-05-24T11:57:06.185Z"
   },
   {
    "duration": 19,
    "start_time": "2022-05-24T11:57:06.412Z"
   },
   {
    "duration": 44,
    "start_time": "2022-05-24T11:57:06.433Z"
   },
   {
    "duration": 19,
    "start_time": "2022-05-24T11:57:06.480Z"
   },
   {
    "duration": 29,
    "start_time": "2022-05-24T11:57:06.501Z"
   },
   {
    "duration": 11,
    "start_time": "2022-05-24T11:57:06.532Z"
   },
   {
    "duration": 52,
    "start_time": "2022-05-24T11:57:06.545Z"
   },
   {
    "duration": 27,
    "start_time": "2022-05-24T11:57:06.599Z"
   },
   {
    "duration": 35,
    "start_time": "2022-05-24T11:57:06.628Z"
   },
   {
    "duration": 84,
    "start_time": "2022-05-24T11:57:06.665Z"
   },
   {
    "duration": 93,
    "start_time": "2022-05-24T11:57:06.750Z"
   },
   {
    "duration": 71,
    "start_time": "2022-05-24T11:57:06.846Z"
   },
   {
    "duration": 43,
    "start_time": "2022-05-24T11:57:06.919Z"
   },
   {
    "duration": 4,
    "start_time": "2022-05-24T11:57:06.963Z"
   },
   {
    "duration": 43,
    "start_time": "2022-05-24T11:57:06.968Z"
   },
   {
    "duration": 48,
    "start_time": "2022-05-24T11:57:07.013Z"
   },
   {
    "duration": 40,
    "start_time": "2022-05-24T11:57:07.067Z"
   },
   {
    "duration": 52,
    "start_time": "2022-05-24T11:57:07.109Z"
   },
   {
    "duration": 5,
    "start_time": "2022-05-24T11:57:07.163Z"
   },
   {
    "duration": 55,
    "start_time": "2022-05-24T11:57:07.170Z"
   },
   {
    "duration": 31,
    "start_time": "2022-05-24T11:57:07.227Z"
   },
   {
    "duration": 21,
    "start_time": "2022-05-24T11:57:07.260Z"
   },
   {
    "duration": 28,
    "start_time": "2022-05-24T11:57:07.283Z"
   },
   {
    "duration": 46,
    "start_time": "2022-05-24T11:57:07.313Z"
   },
   {
    "duration": 22,
    "start_time": "2022-05-24T11:57:07.364Z"
   },
   {
    "duration": 20,
    "start_time": "2022-05-24T11:57:07.389Z"
   },
   {
    "duration": 71,
    "start_time": "2022-05-24T11:57:07.411Z"
   },
   {
    "duration": 30,
    "start_time": "2022-05-24T11:57:07.485Z"
   },
   {
    "duration": 12,
    "start_time": "2022-05-24T11:57:07.517Z"
   },
   {
    "duration": 43,
    "start_time": "2022-05-24T11:57:07.532Z"
   },
   {
    "duration": 37,
    "start_time": "2022-05-24T11:57:07.578Z"
   },
   {
    "duration": 51,
    "start_time": "2022-05-24T11:57:07.617Z"
   },
   {
    "duration": 16,
    "start_time": "2022-05-24T11:57:07.671Z"
   },
   {
    "duration": 9,
    "start_time": "2022-05-24T11:57:07.689Z"
   },
   {
    "duration": 0,
    "start_time": "2022-05-24T11:57:07.700Z"
   },
   {
    "duration": 0,
    "start_time": "2022-05-24T11:57:07.701Z"
   },
   {
    "duration": 0,
    "start_time": "2022-05-24T11:57:07.702Z"
   },
   {
    "duration": 3,
    "start_time": "2022-05-24T11:57:25.112Z"
   },
   {
    "duration": 171,
    "start_time": "2022-05-24T11:57:26.258Z"
   },
   {
    "duration": 10,
    "start_time": "2022-05-24T11:57:27.538Z"
   },
   {
    "duration": 47,
    "start_time": "2022-05-24T11:57:31.953Z"
   },
   {
    "duration": 4,
    "start_time": "2022-05-24T11:57:35.786Z"
   },
   {
    "duration": 11,
    "start_time": "2022-05-24T11:57:38.874Z"
   },
   {
    "duration": 11,
    "start_time": "2022-05-24T11:57:53.773Z"
   },
   {
    "duration": 5,
    "start_time": "2022-05-24T11:57:55.227Z"
   },
   {
    "duration": 40,
    "start_time": "2022-05-24T11:57:56.910Z"
   },
   {
    "duration": 28,
    "start_time": "2022-05-24T11:57:59.162Z"
   },
   {
    "duration": 40,
    "start_time": "2022-05-24T11:58:00.616Z"
   },
   {
    "duration": 66,
    "start_time": "2022-05-24T11:58:03.354Z"
   },
   {
    "duration": 72,
    "start_time": "2022-05-24T11:58:04.596Z"
   },
   {
    "duration": 59,
    "start_time": "2022-05-24T11:58:05.614Z"
   },
   {
    "duration": 47,
    "start_time": "2022-05-24T11:58:08.161Z"
   },
   {
    "duration": 3,
    "start_time": "2022-05-24T11:58:10.414Z"
   },
   {
    "duration": 35,
    "start_time": "2022-05-24T11:58:11.297Z"
   },
   {
    "duration": 72,
    "start_time": "2022-05-24T11:58:13.252Z"
   },
   {
    "duration": 38,
    "start_time": "2022-05-24T11:58:17.319Z"
   },
   {
    "duration": 46,
    "start_time": "2022-05-24T11:58:18.422Z"
   },
   {
    "duration": 5,
    "start_time": "2022-05-24T11:58:19.881Z"
   },
   {
    "duration": 24,
    "start_time": "2022-05-24T11:58:21.358Z"
   },
   {
    "duration": 19,
    "start_time": "2022-05-24T11:58:21.729Z"
   },
   {
    "duration": 21,
    "start_time": "2022-05-24T11:58:22.140Z"
   },
   {
    "duration": 16,
    "start_time": "2022-05-24T11:58:22.466Z"
   },
   {
    "duration": 16,
    "start_time": "2022-05-24T11:58:22.874Z"
   },
   {
    "duration": 16,
    "start_time": "2022-05-24T11:58:23.255Z"
   },
   {
    "duration": 7,
    "start_time": "2022-05-24T11:58:24.053Z"
   },
   {
    "duration": 30,
    "start_time": "2022-05-24T11:58:26.267Z"
   },
   {
    "duration": 23,
    "start_time": "2022-05-24T11:58:26.501Z"
   },
   {
    "duration": 7,
    "start_time": "2022-05-24T11:58:27.215Z"
   },
   {
    "duration": 28,
    "start_time": "2022-05-24T11:58:28.055Z"
   },
   {
    "duration": 24,
    "start_time": "2022-05-24T11:58:28.407Z"
   },
   {
    "duration": 25,
    "start_time": "2022-05-24T11:58:28.992Z"
   },
   {
    "duration": 18,
    "start_time": "2022-05-24T11:58:29.331Z"
   },
   {
    "duration": 41,
    "start_time": "2022-05-24T11:58:31.955Z"
   },
   {
    "duration": 13,
    "start_time": "2022-05-24T11:58:48.562Z"
   },
   {
    "duration": 13,
    "start_time": "2022-05-24T11:58:52.119Z"
   },
   {
    "duration": 5,
    "start_time": "2022-05-24T11:58:54.758Z"
   },
   {
    "duration": 8,
    "start_time": "2022-05-24T11:58:58.757Z"
   },
   {
    "duration": 4,
    "start_time": "2022-05-24T11:59:00.584Z"
   },
   {
    "duration": 543,
    "start_time": "2022-05-24T13:02:53.586Z"
   },
   {
    "duration": 296,
    "start_time": "2022-05-24T13:02:54.132Z"
   },
   {
    "duration": 24,
    "start_time": "2022-05-24T13:02:54.430Z"
   },
   {
    "duration": 57,
    "start_time": "2022-05-24T13:02:54.456Z"
   },
   {
    "duration": 20,
    "start_time": "2022-05-24T13:02:54.516Z"
   },
   {
    "duration": 57,
    "start_time": "2022-05-24T13:02:54.538Z"
   },
   {
    "duration": 36,
    "start_time": "2022-05-24T13:02:54.597Z"
   },
   {
    "duration": 69,
    "start_time": "2022-05-24T13:02:54.636Z"
   },
   {
    "duration": 33,
    "start_time": "2022-05-24T13:02:54.706Z"
   },
   {
    "duration": 35,
    "start_time": "2022-05-24T13:02:54.741Z"
   },
   {
    "duration": 95,
    "start_time": "2022-05-24T13:02:54.778Z"
   },
   {
    "duration": 91,
    "start_time": "2022-05-24T13:02:54.875Z"
   },
   {
    "duration": 75,
    "start_time": "2022-05-24T13:02:54.968Z"
   },
   {
    "duration": 56,
    "start_time": "2022-05-24T13:02:55.064Z"
   },
   {
    "duration": 8,
    "start_time": "2022-05-24T13:02:55.123Z"
   },
   {
    "duration": 44,
    "start_time": "2022-05-24T13:02:55.134Z"
   },
   {
    "duration": 92,
    "start_time": "2022-05-24T13:02:55.180Z"
   },
   {
    "duration": 26,
    "start_time": "2022-05-24T13:02:55.273Z"
   },
   {
    "duration": 49,
    "start_time": "2022-05-24T13:02:55.301Z"
   },
   {
    "duration": 4,
    "start_time": "2022-05-24T13:02:55.352Z"
   },
   {
    "duration": 19,
    "start_time": "2022-05-24T13:02:55.365Z"
   },
   {
    "duration": 18,
    "start_time": "2022-05-24T13:02:55.386Z"
   },
   {
    "duration": 16,
    "start_time": "2022-05-24T13:02:55.407Z"
   },
   {
    "duration": 47,
    "start_time": "2022-05-24T13:02:55.425Z"
   },
   {
    "duration": 21,
    "start_time": "2022-05-24T13:02:55.474Z"
   },
   {
    "duration": 17,
    "start_time": "2022-05-24T13:02:55.497Z"
   },
   {
    "duration": 21,
    "start_time": "2022-05-24T13:02:55.516Z"
   },
   {
    "duration": 47,
    "start_time": "2022-05-24T13:02:55.539Z"
   },
   {
    "duration": 22,
    "start_time": "2022-05-24T13:02:55.588Z"
   },
   {
    "duration": 4,
    "start_time": "2022-05-24T13:02:55.613Z"
   },
   {
    "duration": 35,
    "start_time": "2022-05-24T13:02:55.619Z"
   },
   {
    "duration": 15,
    "start_time": "2022-05-24T13:02:55.665Z"
   },
   {
    "duration": 19,
    "start_time": "2022-05-24T13:02:55.682Z"
   },
   {
    "duration": 13,
    "start_time": "2022-05-24T13:02:55.703Z"
   },
   {
    "duration": 9,
    "start_time": "2022-05-24T13:02:55.718Z"
   },
   {
    "duration": 38,
    "start_time": "2022-05-24T13:02:55.729Z"
   },
   {
    "duration": 10,
    "start_time": "2022-05-24T13:02:55.770Z"
   },
   {
    "duration": 6,
    "start_time": "2022-05-24T13:02:55.782Z"
   },
   {
    "duration": 79,
    "start_time": "2022-05-24T16:05:22.748Z"
   },
   {
    "duration": 437,
    "start_time": "2022-05-24T16:05:36.882Z"
   },
   {
    "duration": 278,
    "start_time": "2022-05-24T16:05:37.321Z"
   },
   {
    "duration": 23,
    "start_time": "2022-05-24T16:05:37.601Z"
   },
   {
    "duration": 42,
    "start_time": "2022-05-24T16:05:37.627Z"
   },
   {
    "duration": 22,
    "start_time": "2022-05-24T16:05:37.671Z"
   },
   {
    "duration": 12,
    "start_time": "2022-05-24T16:05:37.695Z"
   },
   {
    "duration": 6,
    "start_time": "2022-05-24T16:05:37.709Z"
   },
   {
    "duration": 27,
    "start_time": "2022-05-24T16:05:37.717Z"
   },
   {
    "duration": 45,
    "start_time": "2022-05-24T16:05:37.746Z"
   },
   {
    "duration": 36,
    "start_time": "2022-05-24T16:05:37.793Z"
   },
   {
    "duration": 89,
    "start_time": "2022-05-24T16:05:37.830Z"
   },
   {
    "duration": 83,
    "start_time": "2022-05-24T16:05:37.921Z"
   },
   {
    "duration": 74,
    "start_time": "2022-05-24T16:05:38.005Z"
   },
   {
    "duration": 41,
    "start_time": "2022-05-24T16:05:38.081Z"
   },
   {
    "duration": 2,
    "start_time": "2022-05-24T16:05:38.124Z"
   },
   {
    "duration": 21,
    "start_time": "2022-05-24T16:05:38.371Z"
   },
   {
    "duration": 39,
    "start_time": "2022-05-24T16:05:38.394Z"
   },
   {
    "duration": 41,
    "start_time": "2022-05-24T16:05:38.435Z"
   },
   {
    "duration": 29,
    "start_time": "2022-05-24T16:05:38.481Z"
   },
   {
    "duration": 3,
    "start_time": "2022-05-24T16:05:38.512Z"
   },
   {
    "duration": 18,
    "start_time": "2022-05-24T16:05:38.517Z"
   },
   {
    "duration": 41,
    "start_time": "2022-05-24T16:05:38.537Z"
   },
   {
    "duration": 17,
    "start_time": "2022-05-24T16:05:38.582Z"
   },
   {
    "duration": 14,
    "start_time": "2022-05-24T16:05:38.601Z"
   },
   {
    "duration": 15,
    "start_time": "2022-05-24T16:05:38.617Z"
   },
   {
    "duration": 13,
    "start_time": "2022-05-24T16:05:38.635Z"
   },
   {
    "duration": 24,
    "start_time": "2022-05-24T16:05:38.650Z"
   },
   {
    "duration": 30,
    "start_time": "2022-05-24T16:05:38.676Z"
   },
   {
    "duration": 19,
    "start_time": "2022-05-24T16:05:38.709Z"
   },
   {
    "duration": 4,
    "start_time": "2022-05-24T16:05:38.730Z"
   },
   {
    "duration": 45,
    "start_time": "2022-05-24T16:05:38.735Z"
   },
   {
    "duration": 12,
    "start_time": "2022-05-24T16:05:38.782Z"
   },
   {
    "duration": 19,
    "start_time": "2022-05-24T16:05:38.795Z"
   },
   {
    "duration": 17,
    "start_time": "2022-05-24T16:05:38.815Z"
   },
   {
    "duration": 34,
    "start_time": "2022-05-24T16:05:38.834Z"
   },
   {
    "duration": 5,
    "start_time": "2022-05-24T16:05:38.869Z"
   },
   {
    "duration": 19,
    "start_time": "2022-05-24T16:05:38.879Z"
   },
   {
    "duration": 4,
    "start_time": "2022-05-24T16:05:38.900Z"
   },
   {
    "duration": 14,
    "start_time": "2022-05-24T16:05:51.801Z"
   },
   {
    "duration": 484,
    "start_time": "2022-05-24T16:08:15.043Z"
   },
   {
    "duration": 189,
    "start_time": "2022-05-24T16:08:15.529Z"
   },
   {
    "duration": 19,
    "start_time": "2022-05-24T16:08:15.719Z"
   },
   {
    "duration": 40,
    "start_time": "2022-05-24T16:08:15.752Z"
   },
   {
    "duration": 4,
    "start_time": "2022-05-24T16:08:15.794Z"
   },
   {
    "duration": 19,
    "start_time": "2022-05-24T16:08:15.799Z"
   },
   {
    "duration": 14,
    "start_time": "2022-05-24T16:08:15.820Z"
   },
   {
    "duration": 56,
    "start_time": "2022-05-24T16:08:15.836Z"
   },
   {
    "duration": 24,
    "start_time": "2022-05-24T16:08:15.894Z"
   },
   {
    "duration": 49,
    "start_time": "2022-05-24T16:08:15.920Z"
   },
   {
    "duration": 90,
    "start_time": "2022-05-24T16:08:15.971Z"
   },
   {
    "duration": 110,
    "start_time": "2022-05-24T16:08:16.071Z"
   },
   {
    "duration": 72,
    "start_time": "2022-05-24T16:08:16.183Z"
   },
   {
    "duration": 58,
    "start_time": "2022-05-24T16:08:16.272Z"
   },
   {
    "duration": 4,
    "start_time": "2022-05-24T16:08:16.332Z"
   },
   {
    "duration": 41,
    "start_time": "2022-05-24T16:08:16.338Z"
   },
   {
    "duration": 51,
    "start_time": "2022-05-24T16:08:16.381Z"
   },
   {
    "duration": 50,
    "start_time": "2022-05-24T16:08:16.434Z"
   },
   {
    "duration": 57,
    "start_time": "2022-05-24T16:08:16.488Z"
   },
   {
    "duration": 6,
    "start_time": "2022-05-24T16:08:16.547Z"
   },
   {
    "duration": 35,
    "start_time": "2022-05-24T16:08:16.555Z"
   },
   {
    "duration": 24,
    "start_time": "2022-05-24T16:08:16.591Z"
   },
   {
    "duration": 27,
    "start_time": "2022-05-24T16:08:16.617Z"
   },
   {
    "duration": 20,
    "start_time": "2022-05-24T16:08:16.646Z"
   },
   {
    "duration": 22,
    "start_time": "2022-05-24T16:08:16.674Z"
   },
   {
    "duration": 16,
    "start_time": "2022-05-24T16:08:16.698Z"
   },
   {
    "duration": 7,
    "start_time": "2022-05-24T16:08:16.716Z"
   },
   {
    "duration": 54,
    "start_time": "2022-05-24T16:08:16.725Z"
   },
   {
    "duration": 22,
    "start_time": "2022-05-24T16:08:16.781Z"
   },
   {
    "duration": 6,
    "start_time": "2022-05-24T16:08:16.806Z"
   },
   {
    "duration": 35,
    "start_time": "2022-05-24T16:08:16.815Z"
   },
   {
    "duration": 30,
    "start_time": "2022-05-24T16:08:16.865Z"
   },
   {
    "duration": 20,
    "start_time": "2022-05-24T16:08:16.897Z"
   },
   {
    "duration": 13,
    "start_time": "2022-05-24T16:08:16.919Z"
   },
   {
    "duration": 33,
    "start_time": "2022-05-24T16:08:16.933Z"
   },
   {
    "duration": 8,
    "start_time": "2022-05-24T16:08:16.977Z"
   },
   {
    "duration": 8,
    "start_time": "2022-05-24T16:08:16.987Z"
   },
   {
    "duration": 4,
    "start_time": "2022-05-24T16:08:16.997Z"
   },
   {
    "duration": 14,
    "start_time": "2022-05-24T16:10:46.973Z"
   },
   {
    "duration": 429,
    "start_time": "2022-05-24T16:14:36.139Z"
   },
   {
    "duration": 205,
    "start_time": "2022-05-24T16:14:36.570Z"
   },
   {
    "duration": 23,
    "start_time": "2022-05-24T16:14:36.780Z"
   },
   {
    "duration": 32,
    "start_time": "2022-05-24T16:14:36.806Z"
   },
   {
    "duration": 4,
    "start_time": "2022-05-24T16:14:36.840Z"
   },
   {
    "duration": 59,
    "start_time": "2022-05-24T16:14:36.846Z"
   },
   {
    "duration": 7,
    "start_time": "2022-05-24T16:14:36.906Z"
   },
   {
    "duration": 30,
    "start_time": "2022-05-24T16:14:36.915Z"
   },
   {
    "duration": 34,
    "start_time": "2022-05-24T16:14:36.946Z"
   },
   {
    "duration": 31,
    "start_time": "2022-05-24T16:14:36.990Z"
   },
   {
    "duration": 88,
    "start_time": "2022-05-24T16:14:37.023Z"
   },
   {
    "duration": 102,
    "start_time": "2022-05-24T16:14:37.113Z"
   },
   {
    "duration": 77,
    "start_time": "2022-05-24T16:14:37.216Z"
   },
   {
    "duration": 40,
    "start_time": "2022-05-24T16:14:37.297Z"
   },
   {
    "duration": 3,
    "start_time": "2022-05-24T16:14:37.338Z"
   },
   {
    "duration": 49,
    "start_time": "2022-05-24T16:14:37.342Z"
   },
   {
    "duration": 56,
    "start_time": "2022-05-24T16:14:37.397Z"
   },
   {
    "duration": 33,
    "start_time": "2022-05-24T16:14:37.455Z"
   },
   {
    "duration": 34,
    "start_time": "2022-05-24T16:14:37.494Z"
   },
   {
    "duration": 4,
    "start_time": "2022-05-24T16:14:37.530Z"
   },
   {
    "duration": 26,
    "start_time": "2022-05-24T16:14:37.536Z"
   },
   {
    "duration": 26,
    "start_time": "2022-05-24T16:14:37.566Z"
   },
   {
    "duration": 14,
    "start_time": "2022-05-24T16:14:37.599Z"
   },
   {
    "duration": 12,
    "start_time": "2022-05-24T16:14:37.614Z"
   },
   {
    "duration": 16,
    "start_time": "2022-05-24T16:14:37.628Z"
   },
   {
    "duration": 31,
    "start_time": "2022-05-24T16:14:37.645Z"
   },
   {
    "duration": 20,
    "start_time": "2022-05-24T16:14:37.680Z"
   },
   {
    "duration": 24,
    "start_time": "2022-05-24T16:14:37.704Z"
   },
   {
    "duration": 19,
    "start_time": "2022-05-24T16:14:37.730Z"
   },
   {
    "duration": 4,
    "start_time": "2022-05-24T16:14:37.751Z"
   },
   {
    "duration": 45,
    "start_time": "2022-05-24T16:14:37.756Z"
   },
   {
    "duration": 16,
    "start_time": "2022-05-24T16:14:37.803Z"
   },
   {
    "duration": 16,
    "start_time": "2022-05-24T16:14:37.820Z"
   },
   {
    "duration": 11,
    "start_time": "2022-05-24T16:14:37.837Z"
   },
   {
    "duration": 29,
    "start_time": "2022-05-24T16:14:37.849Z"
   },
   {
    "duration": 24,
    "start_time": "2022-05-24T16:14:37.880Z"
   },
   {
    "duration": 7,
    "start_time": "2022-05-24T16:14:37.906Z"
   },
   {
    "duration": 5,
    "start_time": "2022-05-24T16:14:37.915Z"
   },
   {
    "duration": 430,
    "start_time": "2022-05-24T16:23:29.996Z"
   },
   {
    "duration": 209,
    "start_time": "2022-05-24T16:23:30.428Z"
   },
   {
    "duration": 33,
    "start_time": "2022-05-24T16:23:30.638Z"
   },
   {
    "duration": 40,
    "start_time": "2022-05-24T16:23:30.676Z"
   },
   {
    "duration": 15,
    "start_time": "2022-05-24T16:23:30.718Z"
   },
   {
    "duration": 40,
    "start_time": "2022-05-24T16:23:30.735Z"
   },
   {
    "duration": 58,
    "start_time": "2022-05-24T16:23:30.778Z"
   },
   {
    "duration": 61,
    "start_time": "2022-05-24T16:23:30.841Z"
   },
   {
    "duration": 41,
    "start_time": "2022-05-24T16:23:30.904Z"
   },
   {
    "duration": 51,
    "start_time": "2022-05-24T16:23:30.948Z"
   },
   {
    "duration": 102,
    "start_time": "2022-05-24T16:23:31.001Z"
   },
   {
    "duration": 91,
    "start_time": "2022-05-24T16:23:31.105Z"
   },
   {
    "duration": 62,
    "start_time": "2022-05-24T16:23:31.199Z"
   },
   {
    "duration": 55,
    "start_time": "2022-05-24T16:23:31.263Z"
   },
   {
    "duration": 3,
    "start_time": "2022-05-24T16:23:31.320Z"
   },
   {
    "duration": 34,
    "start_time": "2022-05-24T16:23:31.325Z"
   },
   {
    "duration": 57,
    "start_time": "2022-05-24T16:23:31.361Z"
   },
   {
    "duration": 22,
    "start_time": "2022-05-24T16:23:31.420Z"
   },
   {
    "duration": 43,
    "start_time": "2022-05-24T16:23:31.444Z"
   },
   {
    "duration": 21,
    "start_time": "2022-05-24T16:23:31.489Z"
   },
   {
    "duration": 18,
    "start_time": "2022-05-24T16:23:31.512Z"
   },
   {
    "duration": 19,
    "start_time": "2022-05-24T16:23:31.532Z"
   },
   {
    "duration": 36,
    "start_time": "2022-05-24T16:23:31.553Z"
   },
   {
    "duration": 26,
    "start_time": "2022-05-24T16:23:31.591Z"
   },
   {
    "duration": 24,
    "start_time": "2022-05-24T16:23:31.619Z"
   },
   {
    "duration": 12,
    "start_time": "2022-05-24T16:23:31.645Z"
   },
   {
    "duration": 16,
    "start_time": "2022-05-24T16:23:31.659Z"
   },
   {
    "duration": 37,
    "start_time": "2022-05-24T16:23:31.678Z"
   },
   {
    "duration": 21,
    "start_time": "2022-05-24T16:23:31.717Z"
   },
   {
    "duration": 4,
    "start_time": "2022-05-24T16:23:31.741Z"
   },
   {
    "duration": 17,
    "start_time": "2022-05-24T16:23:32.742Z"
   },
   {
    "duration": 36,
    "start_time": "2022-05-24T16:23:32.761Z"
   },
   {
    "duration": 19,
    "start_time": "2022-05-24T16:23:32.799Z"
   },
   {
    "duration": 11,
    "start_time": "2022-05-24T16:23:32.820Z"
   },
   {
    "duration": 10,
    "start_time": "2022-05-24T16:23:32.833Z"
   },
   {
    "duration": 10,
    "start_time": "2022-05-24T16:23:32.844Z"
   },
   {
    "duration": 34,
    "start_time": "2022-05-24T16:23:32.855Z"
   },
   {
    "duration": 16,
    "start_time": "2022-05-24T16:23:32.890Z"
   },
   {
    "duration": 13,
    "start_time": "2022-05-24T16:25:20.023Z"
   },
   {
    "duration": 11,
    "start_time": "2022-05-24T16:25:27.843Z"
   },
   {
    "duration": 6,
    "start_time": "2022-05-24T16:31:03.084Z"
   },
   {
    "duration": 5,
    "start_time": "2022-05-24T16:31:07.700Z"
   }
  ],
  "colab": {
   "collapsed_sections": [
    "E0vqbgi9ay0H",
    "VUC88oWjTJw2"
   ],
   "name": "yandex_music_project.ipynb",
   "provenance": []
  },
  "kernelspec": {
   "display_name": "Python 3",
   "language": "python",
   "name": "python3"
  },
  "language_info": {
   "codemirror_mode": {
    "name": "ipython",
    "version": 3
   },
   "file_extension": ".py",
   "mimetype": "text/x-python",
   "name": "python",
   "nbconvert_exporter": "python",
   "pygments_lexer": "ipython3",
   "version": "3.8.8"
  },
  "toc": {
   "base_numbering": 1,
   "nav_menu": {},
   "number_sections": true,
   "sideBar": true,
   "skip_h1_title": true,
   "title_cell": "Table of Contents",
   "title_sidebar": "Contents",
   "toc_cell": false,
   "toc_position": {},
   "toc_section_display": true,
   "toc_window_display": true
  }
 },
 "nbformat": 4,
 "nbformat_minor": 1
}
